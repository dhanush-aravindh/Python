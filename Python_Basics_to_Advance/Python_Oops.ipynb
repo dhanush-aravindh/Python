{
 "cells": [
  {
   "cell_type": "code",
   "execution_count": 1,
   "id": "32cfa713",
   "metadata": {},
   "outputs": [],
   "source": [
    "# Agenda\n",
    "# 1.Introduction to Oops\n",
    "# 2.Classes\n",
    "# 3.Objects\n",
    "# 4.Constructors\n",
    "# 5.Inheritance\n",
    "# 6.Polymorphism\n",
    "# 7.Encapsulation"
   ]
  },
  {
   "cell_type": "code",
   "execution_count": null,
   "id": "8ba823f1",
   "metadata": {},
   "outputs": [],
   "source": []
  },
  {
   "cell_type": "code",
   "execution_count": 7,
   "id": "1e91bab9",
   "metadata": {},
   "outputs": [
    {
     "name": "stdout",
     "output_type": "stream",
     "text": [
      "18\n"
     ]
    }
   ],
   "source": [
    "arr = [5,3,1,2,7]\n",
    "c = 0\n",
    "for i in range(len(arr)):\n",
    "    b = arr[i]\n",
    "    c +=b\n",
    "print(c)"
   ]
  },
  {
   "cell_type": "code",
   "execution_count": 3,
   "id": "f88272bc",
   "metadata": {},
   "outputs": [
    {
     "name": "stdout",
     "output_type": "stream",
     "text": [
      "3[a]4[b]\n"
     ]
    },
    {
     "ename": "TypeError",
     "evalue": "'int' object is not iterable",
     "output_type": "error",
     "traceback": [
      "\u001b[1;31m---------------------------------------------------------------------------\u001b[0m",
      "\u001b[1;31mTypeError\u001b[0m                                 Traceback (most recent call last)",
      "\u001b[1;32m~\\AppData\\Local\\Temp/ipykernel_14600/1132581661.py\u001b[0m in \u001b[0;36m<module>\u001b[1;34m\u001b[0m\n\u001b[0;32m      2\u001b[0m \u001b[0mnstack\u001b[0m \u001b[1;33m=\u001b[0m \u001b[1;33m[\u001b[0m\u001b[1;33m]\u001b[0m\u001b[1;33m\u001b[0m\u001b[1;33m\u001b[0m\u001b[0m\n\u001b[0;32m      3\u001b[0m \u001b[0msstack\u001b[0m \u001b[1;33m=\u001b[0m \u001b[1;33m[\u001b[0m\u001b[1;33m]\u001b[0m\u001b[1;33m\u001b[0m\u001b[1;33m\u001b[0m\u001b[0m\n\u001b[1;32m----> 4\u001b[1;33m \u001b[1;32mfor\u001b[0m \u001b[0mi\u001b[0m \u001b[1;32min\u001b[0m \u001b[0mlen\u001b[0m\u001b[1;33m(\u001b[0m\u001b[0mstring1\u001b[0m\u001b[1;33m)\u001b[0m\u001b[1;33m:\u001b[0m\u001b[1;33m\u001b[0m\u001b[1;33m\u001b[0m\u001b[0m\n\u001b[0m\u001b[0;32m      5\u001b[0m     \u001b[1;32mif\u001b[0m \u001b[0mstring1\u001b[0m\u001b[1;33m[\u001b[0m\u001b[0mi\u001b[0m\u001b[1;33m]\u001b[0m \u001b[1;33m==\u001b[0m \u001b[0mint\u001b[0m\u001b[1;33m:\u001b[0m\u001b[1;33m\u001b[0m\u001b[1;33m\u001b[0m\u001b[0m\n\u001b[0;32m      6\u001b[0m         \u001b[0mnstack\u001b[0m\u001b[1;33m.\u001b[0m\u001b[0mappend\u001b[0m\u001b[1;33m(\u001b[0m\u001b[0mi\u001b[0m\u001b[1;33m)\u001b[0m\u001b[1;33m\u001b[0m\u001b[1;33m\u001b[0m\u001b[0m\n",
      "\u001b[1;31mTypeError\u001b[0m: 'int' object is not iterable"
     ]
    }
   ],
   "source": []
  },
  {
   "cell_type": "code",
   "execution_count": null,
   "id": "82076e10",
   "metadata": {},
   "outputs": [],
   "source": []
  },
  {
   "cell_type": "code",
   "execution_count": null,
   "id": "9d8bd0ad",
   "metadata": {},
   "outputs": [],
   "source": []
  },
  {
   "cell_type": "code",
   "execution_count": null,
   "id": "8059ef40",
   "metadata": {},
   "outputs": [],
   "source": []
  },
  {
   "cell_type": "raw",
   "id": "bd4a698e",
   "metadata": {},
   "source": [
    "# Introduction to Oops(Object Oriented Programming)\n",
    "Python is a general purpose language. The language which is used in order to make smaller programs to higher level programs\n",
    "Eg: We use smartphones and laptops in our day to day life Any programs which are created for laptop and mobile phones which can be a smaller programs eg; calculator --> It has few methods to do mathematical operations\n",
    "lager programs-->Facebook,Google,Rocket launching\n",
    "Language which is used for creating smaller programs to larger programs is called General Purpose language.\n",
    "\n",
    "# Object Oriented Programming(Oops):\n",
    "Programming language which takes care about data (eg:My name,emailaddress,phone number,dob,etc;).Oops is group of concept which takes care about our data.\n",
    "eg:\n",
    "1.# Profile:\n",
    "   Profile id:nhmjhujk5y678\n",
    "   Profile name: dhan345\n",
    "   coins:345667\n",
    " We need to create a profile in order to play the game and all the data will be related to that particular profile is updated in the profile and there are few rules that we cannot change the values of any other profile/edit instructions of any other profile that is know as data hierarchy or data protection we can only view others profile in order to connect we need to send the request.These basic functionality are examples of oops\n",
    " 2. Dog: 4 legs,1 tail,2 eyes \n",
    " But there are different breeds \n",
    "\n",
    "# Procedural Oriented Programming(POP):\n",
    "Programming language which doesn't takes care about data . A particular procedure is only carried out without taking care of data eg: Traffic lights\n",
    "\n"
   ]
  },
  {
   "cell_type": "code",
   "execution_count": null,
   "id": "d3568940",
   "metadata": {},
   "outputs": [],
   "source": [
    "# Classes: Class is a blueprint that contains group of functions and data members in a single entity\n",
    "# Dog(class):has 4 legs,1 tail,2 eyes(data members) \n",
    "# We are talking about function we are talking about independent functions\n",
    "# the functions which are part of class are known as methods\n",
    "# Bank account(class):A/C No,A/C Name,Balance(Variables-->class variables/data members)\n",
    "# Methods related(Bank account): money_add,money_withdrawal,balance_check,Close_acc(functions/Methods in Back acc class)\n",
    "# If a function is independent-->function\n",
    "# If a function is part of class--> Method\n",
    "# Human(class):2 legs,2 hands,2 eyes, 2 ears, 1 mouth,1 nose(data members)\n",
    "               # Talk,walk,eat,sleep,smell,see(Methods)\n",
    "# Characteristics of class:\n",
    "# grouping of similar items(Data members of each class will be related to each other)\n",
    "# eg: When ever we are talking about bank account we only involve bank a/c number not aadhar number\n",
    "# attributes are variables that belongs to class(data members)\n",
    "# Methods are functions inside the class\n"
   ]
  },
  {
   "cell_type": "code",
   "execution_count": 3,
   "id": "e4585937",
   "metadata": {},
   "outputs": [
    {
     "ename": "SyntaxError",
     "evalue": "invalid syntax (Temp/ipykernel_20600/2348904211.py, line 1)",
     "output_type": "error",
     "traceback": [
      "\u001b[1;36m  File \u001b[1;32m\"C:\\Users\\HP\\AppData\\Local\\Temp/ipykernel_20600/2348904211.py\"\u001b[1;36m, line \u001b[1;32m1\u001b[0m\n\u001b[1;33m    a=int(input(list[]))\u001b[0m\n\u001b[1;37m                     ^\u001b[0m\n\u001b[1;31mSyntaxError\u001b[0m\u001b[1;31m:\u001b[0m invalid syntax\n"
     ]
    }
   ],
   "source": []
  },
  {
   "cell_type": "code",
   "execution_count": 29,
   "id": "9e9d272d",
   "metadata": {},
   "outputs": [
    {
     "name": "stdout",
     "output_type": "stream",
     "text": [
      "True\n",
      "False\n"
     ]
    }
   ],
   "source": [
    "x1=[1,2,3,1]\n",
    "for i in range(len(x1)-1):\n",
    "    for j in range(i+1,len(x1)):\n",
    "        if x1[i]==x1[j]:\n",
    "            print(True)\n",
    "\n",
    "print(False)"
   ]
  },
  {
   "cell_type": "code",
   "execution_count": 37,
   "id": "003278e9",
   "metadata": {},
   "outputs": [
    {
     "name": "stdout",
     "output_type": "stream",
     "text": [
      "False\n",
      "False\n",
      "False\n",
      "True\n",
      "False\n",
      "False\n",
      "False\n",
      "True\n",
      "True\n",
      "False\n",
      "False\n",
      "False\n",
      "False\n",
      "True\n",
      "False\n",
      "False\n",
      "False\n",
      "False\n",
      "False\n",
      "True\n",
      "False\n",
      "False\n",
      "True\n",
      "False\n",
      "False\n",
      "False\n",
      "False\n",
      "False\n",
      "False\n",
      "True\n",
      "False\n",
      "False\n",
      "False\n",
      "False\n",
      "False\n",
      "False\n"
     ]
    }
   ],
   "source": [
    "a=[1,2,2,3,1,3,5,2,1]\n",
    "for i in range(len(a)-1):\n",
    "        for j in range(i+1,len(a)):\n",
    "            if a[i]==a[j]:\n",
    "                print(True)\n",
    "            else:\n",
    "                print(False)\n",
    "        \n",
    "    "
   ]
  },
  {
   "cell_type": "code",
   "execution_count": 38,
   "id": "9a0b34b4",
   "metadata": {},
   "outputs": [],
   "source": [
    "# Objects: Instance of class or a real world entity which has certain behavior and state\n",
    "# Every dog is different their heigh,weight , breed\n",
    "# eg: Bank Account(class):A/c No:985746395,A/C Name:Ruben,Balance:34,657.30\n",
    "                        #:A/c No:986859926,A/C Name:Vedan,Balance:346.56\n",
    "# These different data entity is known as objects\n",
    "# Dogs(class): \n",
    "         #Max (long tail,black hairs,short height)\n",
    "         #Bruno (short tail,brown hairs,long height)\n",
    "#Max and Bruno are objects of class dog\n",
    "# Class is a template\n",
    "# Every data members in the class have different values as we have different objects\n",
    "# Every different bank account is an object but the values of each object will change\n",
    "# The values are mandatory but can be different\n",
    "# Airtel is a object --> every people have simcard(Attribute/data member) but different mobile number"
   ]
  },
  {
   "cell_type": "code",
   "execution_count": null,
   "id": "a411c8cf",
   "metadata": {},
   "outputs": [],
   "source": [
    "# Car(class):4 wheel,1 engine,brakes,gear system\n",
    "      #Maruti800 \n",
    "      #Audi X: Audi X,Audi X2,Audi X3,...Audi X8\n",
    "      #BMW\n",
    "# The cars Maruti800,Audi x4,BMW are objects\n",
    "# The value of datamember / attribute differs with respect to object\n",
    "# If we Audi X series we have around 8 cars\n",
    "# Where Audi X is an class/object  for Audi X,Audi x2,...,Audi X8\n",
    "# Phone(class):Wired,wireless(Objects)"
   ]
  },
  {
   "cell_type": "code",
   "execution_count": null,
   "id": "bba3d94a",
   "metadata": {},
   "outputs": [],
   "source": [
    " #Car(class):4 wheel,1 engine,brakes,gear system\n",
    "    # Methods:Running Drifting\n",
    "      #Maruti800: 4 steel wheel,Diesel,Mannual,Mannual,run,cannot drift\n",
    "      #Audi X: 4 Alloy wheel,Hyper,Automatic,advanced,run,drift\n",
    "      #BMW: 4 alloy wheels,classic,Automatic,advanced,run,drift"
   ]
  },
  {
   "cell_type": "code",
   "execution_count": 2,
   "id": "6e13a060",
   "metadata": {},
   "outputs": [
    {
     "name": "stdout",
     "output_type": "stream",
     "text": [
      "345678\n"
     ]
    }
   ],
   "source": [
    "#Program print in python\n",
    "# Python is easy to understand and large set of libraries\n",
    "print(345678)"
   ]
  },
  {
   "cell_type": "code",
   "execution_count": null,
   "id": "c9eb4dfd",
   "metadata": {},
   "outputs": [],
   "source": [
    "# Program to print in C language\n",
    "#include<stdio.h>\n",
    "#include<conio.h>\n",
    "int main(){\n",
    "    int x=345678;\n",
    "    printf(\"%d\",x);\n",
    "    return 0;\n",
    "}"
   ]
  },
  {
   "cell_type": "code",
   "execution_count": null,
   "id": "be56bf9a",
   "metadata": {},
   "outputs": [],
   "source": [
    "#Syntax of Oops:\n",
    "# Class: It is defined by class keyword\n",
    "class classname:\n",
    "    # Statement 1\n",
    "    .\n",
    "    .  # we can write any narrative of objects of the class, methods, etc;\n",
    "    .\n",
    "    # Statement n\n",
    "# Eg: class Car:\n",
    "#     class dog:"
   ]
  },
  {
   "cell_type": "code",
   "execution_count": null,
   "id": "b54f84f9",
   "metadata": {},
   "outputs": [],
   "source": [
    "# Syntac of Object:\n",
    "# Object_name=classname()\n",
    "#Eg: Maruti800=car()\n",
    "#    Max=dog()"
   ]
  },
  {
   "cell_type": "code",
   "execution_count": 39,
   "id": "dd7f0069",
   "metadata": {},
   "outputs": [],
   "source": [
    "def fun(a,b):\n",
    "    return a+b"
   ]
  },
  {
   "cell_type": "code",
   "execution_count": 40,
   "id": "8500b750",
   "metadata": {},
   "outputs": [
    {
     "data": {
      "text/plain": [
       "13"
      ]
     },
     "execution_count": 40,
     "metadata": {},
     "output_type": "execute_result"
    }
   ],
   "source": [
    "fun(9,4)"
   ]
  },
  {
   "cell_type": "code",
   "execution_count": 41,
   "id": "0d60eccb",
   "metadata": {},
   "outputs": [],
   "source": [
    "class Demo:\n",
    "    def f1(self,a,b):\n",
    "        return a+b\n",
    "    def f2(self,a,b):\n",
    "        return a*b"
   ]
  },
  {
   "cell_type": "code",
   "execution_count": 48,
   "id": "a03a1f08",
   "metadata": {},
   "outputs": [],
   "source": [
    "obj1=Demo()\n",
    "obj2=Demo()"
   ]
  },
  {
   "cell_type": "code",
   "execution_count": 50,
   "id": "9970672e",
   "metadata": {},
   "outputs": [
    {
     "name": "stdout",
     "output_type": "stream",
     "text": [
      "112\n",
      "111\n"
     ]
    }
   ],
   "source": [
    "print(obj1.f1(45,67))\n",
    "print(obj2.f1(87,24))"
   ]
  },
  {
   "cell_type": "code",
   "execution_count": 44,
   "id": "e569f37a",
   "metadata": {},
   "outputs": [
    {
     "data": {
      "text/plain": [
       "3015"
      ]
     },
     "execution_count": 44,
     "metadata": {},
     "output_type": "execute_result"
    }
   ],
   "source": [
    "obj1.f2(45,67)# We are just extracting only one output"
   ]
  },
  {
   "cell_type": "code",
   "execution_count": 45,
   "id": "8e37fcb8",
   "metadata": {},
   "outputs": [
    {
     "data": {
      "text/plain": [
       "1904"
      ]
     },
     "execution_count": 45,
     "metadata": {},
     "output_type": "execute_result"
    }
   ],
   "source": [
    "obj1.f1(34,56)\n",
    "obj1.f2(34,56) # We will get both the result but due to presence of the bottom statement the result will be overlapped"
   ]
  },
  {
   "cell_type": "code",
   "execution_count": null,
   "id": "edf3a11b",
   "metadata": {},
   "outputs": [],
   "source": [
    "# Self keyword:\n",
    "# Every value is associated to one object only \n",
    "# Values which are associated with one object will not associate with another object\n",
    "# Self keyword associates the values with corresponding particular objects not to every other object\n",
    "# Cash Withrawal,Cash Deposit are the functions related to our class but when we start using those particular function\n",
    "# f1 (function/methods)--> Cash deposit function \n",
    "# obj1,obj2(objects) --> using the function f1 that is two different object using the same functionality and the values\n",
    "# Which are associated with obj1 will be remaining associated with obj1.The values which are associated with obj2 will be \n",
    "# associated with obj2 only that is the use of self keyword\n",
    "# Whenever we are talking about methods/function inside the classes we should include self keyword\n",
    "# Self will be the first parameter of a method in a class\n",
    "# Self will help associate the data with their corresponding objects\n",
    "# The value which are associated with one object will remain associated with one object only\n",
    "# Self is a part of syntax of the method\n",
    "# Self helps in associating the values to the respective object\n",
    "# a,b are parameters of a method\n",
    "\n",
    "\n"
   ]
  },
  {
   "cell_type": "code",
   "execution_count": 58,
   "id": "d02aca85",
   "metadata": {},
   "outputs": [],
   "source": [
    "# If we remove self\n",
    "class Demo_1:\n",
    "    def f1(self,a,b):\n",
    "        return a+b\n",
    "    def f2(self,a,b):\n",
    "        return a*b\n"
   ]
  },
  {
   "cell_type": "code",
   "execution_count": 61,
   "id": "3261220e",
   "metadata": {},
   "outputs": [],
   "source": [
    "obj3=Demo_1()\n",
    "obj4=Demo_1()\n",
    "obj5=Demo_1()"
   ]
  },
  {
   "cell_type": "code",
   "execution_count": 62,
   "id": "46dad10e",
   "metadata": {},
   "outputs": [
    {
     "name": "stdout",
     "output_type": "stream",
     "text": [
      "112\n",
      "111\n",
      "653\n"
     ]
    }
   ],
   "source": [
    "print(obj3.f1(45,67))\n",
    "print(obj4.f1(87,24))\n",
    "print(obj5.f1(86,567))"
   ]
  },
  {
   "cell_type": "raw",
   "id": "e8b308ba",
   "metadata": {},
   "source": [
    "# Constructors:\n",
    "In order to understand the functionality of data members we need to understand the concept of constructors a full fludged\n",
    "program about classes and objects\n",
    "Constructor is an initialiser of data members / attributes\n",
    "How to initialize data members inside the class?\n",
    "We use __init__() method in python helps in initializing the variable or data members.This method is called constructor\n",
    "In this method we can properly understand the functionality of self keyword\n",
    "Constructor doesn't needs to be called\n",
    "When an object is created using object_name=classname(). The constructor is automatically called using this line of code.\n",
    "It call itself during object creation\n",
    "Consturctor is a function/method\n",
    "There are two types of constructors"
   ]
  },
  {
   "cell_type": "code",
   "execution_count": null,
   "id": "9372125a",
   "metadata": {},
   "outputs": [],
   "source": [
    "#syntax:\n",
    "def __init__(self):\n",
    "    #body\n",
    "    # Wheels = 4\n",
    "    # Engine = 1\n",
    "    # Brakes= 4\n",
    "    # Gear system =basic\n"
   ]
  },
  {
   "cell_type": "raw",
   "id": "81ba03c4",
   "metadata": {},
   "source": [
    "# Types of constructors:\n",
    "In every method self is our first parameter \n",
    "1.Parameterized --> accepts formal parameters and assign accordinly\n",
    "2.Non-paramterized/Default--> Do not accept parameters only self is used"
   ]
  },
  {
   "cell_type": "code",
   "execution_count": 63,
   "id": "b5002c3c",
   "metadata": {},
   "outputs": [],
   "source": [
    "# Non-Parameterized constructor:\n",
    "class demo:\n",
    "    def __init__(self):\n",
    "        print(\"Constructor is called\")\n",
    "    def m1(self,a):\n",
    "        return a*a"
   ]
  },
  {
   "cell_type": "code",
   "execution_count": 64,
   "id": "6ab3cdea",
   "metadata": {},
   "outputs": [
    {
     "name": "stdout",
     "output_type": "stream",
     "text": [
      "Constructor is called\n"
     ]
    }
   ],
   "source": [
    "obj = demo()"
   ]
  },
  {
   "cell_type": "code",
   "execution_count": 65,
   "id": "674ad12e",
   "metadata": {},
   "outputs": [
    {
     "data": {
      "text/plain": [
       "25"
      ]
     },
     "execution_count": 65,
     "metadata": {},
     "output_type": "execute_result"
    }
   ],
   "source": [
    "obj.m1(5)"
   ]
  },
  {
   "cell_type": "code",
   "execution_count": 73,
   "id": "d3845ff0",
   "metadata": {},
   "outputs": [],
   "source": [
    "# Main functionality of constructor is too initialize things\n",
    "# In most of the cases we use parameterized constructor\n",
    "class car:\n",
    "    def __init__(self):\n",
    "        print(\"Car is created with 4 wheels,1 engine,gears added\")\n",
    "    def m1(self,a):\n",
    "        return a*a"
   ]
  },
  {
   "cell_type": "code",
   "execution_count": 74,
   "id": "872439ef",
   "metadata": {},
   "outputs": [
    {
     "name": "stdout",
     "output_type": "stream",
     "text": [
      "Car is created with 4 wheels,1 engine,gears added\n"
     ]
    }
   ],
   "source": [
    "Maruthi800 = car()"
   ]
  },
  {
   "cell_type": "code",
   "execution_count": 75,
   "id": "5fd1c0cb",
   "metadata": {},
   "outputs": [
    {
     "data": {
      "text/plain": [
       "9"
      ]
     },
     "execution_count": 75,
     "metadata": {},
     "output_type": "execute_result"
    }
   ],
   "source": [
    "Maruthi800.m1(3)"
   ]
  },
  {
   "cell_type": "code",
   "execution_count": null,
   "id": "d9cf7e8c",
   "metadata": {},
   "outputs": [],
   "source": [
    "# Real life implementations of classes and objects.The main purpose of the classes and objects is to inherit the property\n",
    "# of classes to create something\n",
    "# The parameter values are initialized during the object creation"
   ]
  },
  {
   "cell_type": "code",
   "execution_count": 89,
   "id": "46deb6cc",
   "metadata": {},
   "outputs": [],
   "source": [
    "# Parameterized constructors\n",
    "class car:\n",
    "    def __init__(self,wheels,gears,brakes,engine,speed):\n",
    "        self.wheels = wheels\n",
    "        self.gears = gears\n",
    "        self.brakes = brakes\n",
    "        self.engine = engine\n",
    "        self.speed = speed\n",
    "        print('Car values are assigned')\n",
    "    def run(self):\n",
    "        print('The car has engine: ',self.engine,'thats why the speed is high')\n",
    "        print('The car har gears: ',self.gears,'thats why the top speed is very high')\n",
    "        print('The car has top speed of: ',self.speed)\n",
    "    def model(self):\n",
    "        print(self.wheels)\n",
    "        print(self.brakes)"
   ]
  },
  {
   "cell_type": "code",
   "execution_count": 94,
   "id": "1a5b836b",
   "metadata": {},
   "outputs": [
    {
     "name": "stdout",
     "output_type": "stream",
     "text": [
      "Car values are assigned\n",
      "Car values are assigned\n"
     ]
    }
   ],
   "source": [
    "audi = car('alloy',[1,2,3,4,5,6,7,8],'disc','hyper',256.88)\n",
    "Maruti800 = car('steel','basic','metal','diesel',136)"
   ]
  },
  {
   "cell_type": "code",
   "execution_count": 95,
   "id": "76413c9c",
   "metadata": {},
   "outputs": [
    {
     "name": "stdout",
     "output_type": "stream",
     "text": [
      "The car has engine:  hyper thats why the speed is high\n",
      "The car har gears:  [1, 2, 3, 4, 5, 6, 7, 8] thats why the top speed is very high\n",
      "The car has top speed of:  256.88\n",
      "alloy\n",
      "disc\n"
     ]
    }
   ],
   "source": [
    "audi.run()\n",
    "audi.model()"
   ]
  },
  {
   "cell_type": "code",
   "execution_count": 96,
   "id": "aecf6686",
   "metadata": {},
   "outputs": [
    {
     "name": "stdout",
     "output_type": "stream",
     "text": [
      "The car has engine:  diesel thats why the speed is high\n",
      "The car har gears:  basic thats why the top speed is very high\n",
      "The car has top speed of:  136\n",
      "steel\n",
      "metal\n"
     ]
    }
   ],
   "source": [
    "Maruti800.run()\n",
    "Maruti800.model()"
   ]
  },
  {
   "cell_type": "code",
   "execution_count": null,
   "id": "9d022b57",
   "metadata": {},
   "outputs": [],
   "source": [
    "# Overall functionality of class and object is to create relationship between real world entities\n",
    "# How a single program is able to provide different outputs for different objects"
   ]
  },
  {
   "cell_type": "code",
   "execution_count": 1,
   "id": "a33197e7",
   "metadata": {},
   "outputs": [],
   "source": [
    "# Inhertiance:\n",
    "# Inheritance means the capability of a class to inherit the properties from another class\n",
    "# The class which derives/receives the properties from another class is know as child class\n",
    "# The class from which properties are received/derived is known as parent class\n",
    "# eg:Humans: We have some properties of our parents some from father and some from mother\n",
    "\n",
    "# Benefits:\n",
    "# It provides re-usability of code\n",
    "# It represents relations in real world\n",
    "# We can add new features to the class\n",
    "\n",
    "# Types of Inheritance:\n",
    "# 1.Single Inheritance\n",
    "# 2.Multiple Inheritance\n",
    "# 3.Multilevel Inheritance\n",
    "# 4.Hierarchial Inheritance\n",
    "# 5.Hybrid Inheritance\n",
    "\n",
    "# A child class can inherit from many parents\n"
   ]
  },
  {
   "cell_type": "code",
   "execution_count": 1,
   "id": "d3452900",
   "metadata": {},
   "outputs": [],
   "source": [
    "# Single Inheritance:\n",
    "  # One parent class->One child class\n",
    "    # When we are calling parent class inside child class the methods are also called\n",
    "    # When we are calling the parent class constructor inside the child class the methods are also called inside the child\n",
    "    # Class\n",
    "# Example:\n",
    "# Parent class:\n",
    "class car:\n",
    "    # Constructor\n",
    "    def __init__(self,name,model):\n",
    "        self.name = name\n",
    "        self.model = model\n",
    "    def display(self):\n",
    "        print(self.name,self.model)\n",
    "\n",
    "# child class:\n",
    "class audi(car):\n",
    "    # constructor\n",
    "    def __init__(self,name,model,gear,speed):\n",
    "        self.gear = gear\n",
    "        self.speed = speed\n",
    "        car.__init__(self,name,model) # calling the constructor of parent class\n",
    "        \n",
    "    def info(self):\n",
    "        print(\"Car name: \",self.name)\n",
    "        print(\"Car model: \",self.model)\n",
    "        print(\"Car gear: \",self.gear)\n",
    "        print(\"Car speed: \",self.speed,\"kmph\")"
   ]
  },
  {
   "cell_type": "code",
   "execution_count": 2,
   "id": "9424a63e",
   "metadata": {},
   "outputs": [],
   "source": [
    "audi1 = audi('Audi Car','Audi X1',[1,2,3,4,5,'R'],250)"
   ]
  },
  {
   "cell_type": "code",
   "execution_count": 3,
   "id": "35cd862f",
   "metadata": {},
   "outputs": [
    {
     "name": "stdout",
     "output_type": "stream",
     "text": [
      "Car name:  Audi Car\n",
      "Car model:  Audi X1\n",
      "Car gear:  [1, 2, 3, 4, 5, 'R']\n",
      "Car speed:  250 kmph\n"
     ]
    }
   ],
   "source": [
    "audi1.info()"
   ]
  },
  {
   "cell_type": "code",
   "execution_count": 4,
   "id": "e8321799",
   "metadata": {},
   "outputs": [
    {
     "name": "stdout",
     "output_type": "stream",
     "text": [
      "Audi Car Audi X1\n"
     ]
    }
   ],
   "source": [
    "audi1.display()"
   ]
  },
  {
   "cell_type": "code",
   "execution_count": 5,
   "id": "bd98bd34",
   "metadata": {},
   "outputs": [],
   "source": [
    "class car:\n",
    "    # Constructor\n",
    "    def __init__(me,name,model):\n",
    "        me.name = name\n",
    "        me.model = model\n",
    "    def display(me):\n",
    "        print(me.name,me.model)\n",
    "\n",
    "# child class:\n",
    "class audi(car):\n",
    "    # constructor\n",
    "    def __init__(me,name,model,gear,speed):\n",
    "        me.gear = gear\n",
    "        me.speed = speed\n",
    "        car.__init__(me,name,model) # calling the constructor of parent class\n",
    "        \n",
    "    def info(me):\n",
    "        print(\"Car name: \",me.name)\n",
    "        print(\"Car model: \",me.model)\n",
    "        print(\"Car gear: \",me.gear)\n",
    "        print(\"Car speed: \",me.speed,\"kmph\")"
   ]
  },
  {
   "cell_type": "code",
   "execution_count": 8,
   "id": "a38cd16d",
   "metadata": {},
   "outputs": [],
   "source": [
    "audi2 = audi('name','model',[1,2,3,4,5],200)"
   ]
  },
  {
   "cell_type": "code",
   "execution_count": 9,
   "id": "0be51eaa",
   "metadata": {},
   "outputs": [
    {
     "name": "stdout",
     "output_type": "stream",
     "text": [
      "Car name:  name\n",
      "Car model:  model\n",
      "Car gear:  [1, 2, 3, 4, 5]\n",
      "Car speed:  200 kmph\n"
     ]
    }
   ],
   "source": [
    "audi2.info()"
   ]
  },
  {
   "cell_type": "code",
   "execution_count": 10,
   "id": "2ff4e6c5",
   "metadata": {},
   "outputs": [
    {
     "name": "stdout",
     "output_type": "stream",
     "text": [
      "name model\n"
     ]
    }
   ],
   "source": [
    "audi2.display()"
   ]
  },
  {
   "cell_type": "code",
   "execution_count": null,
   "id": "1fe067d2",
   "metadata": {},
   "outputs": [],
   "source": [
    "# Multiple inheritance:\n",
    "  # Two or more than 2 Parent class --> # one child class\n",
    "  # many to one relationship\n",
    "  # A -> Parent\n",
    "  # B -> Parent\n",
    "  # C -> Child"
   ]
  },
  {
   "cell_type": "code",
   "execution_count": 10,
   "id": "6b99c7a6",
   "metadata": {},
   "outputs": [],
   "source": [
    "# Example:\n",
    "# First parent class:\n",
    "class A:\n",
    "    def __init__(self):\n",
    "        print('First Parent class')\n",
    "    def f1(self):\n",
    "        print('First class method')\n",
    "# Second Parent class:\n",
    "class B:\n",
    "    def __init__(self):\n",
    "        print('Second Parent class')\n",
    "    def f2(self):\n",
    "        print('Second class method')\n",
    "# Child Class :\n",
    "class C(A,B):\n",
    "    def __init__(self):\n",
    "        A.__init__(self) # Calling first parent class\n",
    "        B.__init__(self) # Calling Second Parent class\n",
    "        print('Child Class constructor')\n",
    "    def f3(self):\n",
    "        #C.f1(self)\n",
    "       # C.f2(self)\n",
    "        print('Child Class method')\n",
    "        "
   ]
  },
  {
   "cell_type": "code",
   "execution_count": 11,
   "id": "8534f038",
   "metadata": {},
   "outputs": [
    {
     "name": "stdout",
     "output_type": "stream",
     "text": [
      "First Parent class\n",
      "Second Parent class\n",
      "Child Class constructor\n"
     ]
    }
   ],
   "source": [
    "ant = C()"
   ]
  },
  {
   "cell_type": "code",
   "execution_count": 12,
   "id": "b3e568c5",
   "metadata": {},
   "outputs": [
    {
     "name": "stdout",
     "output_type": "stream",
     "text": [
      "Child Class method\n"
     ]
    }
   ],
   "source": [
    "ant.f3()"
   ]
  },
  {
   "cell_type": "code",
   "execution_count": 13,
   "id": "99fcf1f0",
   "metadata": {},
   "outputs": [
    {
     "name": "stdout",
     "output_type": "stream",
     "text": [
      "First class method\n"
     ]
    }
   ],
   "source": [
    "ant.f1()"
   ]
  },
  {
   "cell_type": "code",
   "execution_count": 14,
   "id": "26317c0a",
   "metadata": {},
   "outputs": [
    {
     "name": "stdout",
     "output_type": "stream",
     "text": [
      "Second class method\n"
     ]
    }
   ],
   "source": [
    "ant.f2()"
   ]
  },
  {
   "cell_type": "code",
   "execution_count": 15,
   "id": "16ed2b4d",
   "metadata": {},
   "outputs": [],
   "source": [
    "class A:\n",
    "    def __init__(self):\n",
    "        print('First Parent class')\n",
    "    def f1(self):\n",
    "        print('First class method')\n",
    "# Second Parent class:\n",
    "class B:\n",
    "    def __init__(self):\n",
    "        print('Second Parent class')\n",
    "    def f1(self):\n",
    "        print('Second class method')\n",
    "# Child Class :\n",
    "class C(A,B):\n",
    "    def __init__(self):\n",
    "        A.__init__(self) # Calling first parent class\n",
    "        B.__init__(self) # Calling Second Parent class\n",
    "        print('Child Class constructor')\n",
    "    def f3(self):\n",
    "        C.f1(self)\n",
    "        C.f1(self)\n",
    "        print('Child Class method')\n",
    "        "
   ]
  },
  {
   "cell_type": "code",
   "execution_count": 16,
   "id": "2121ba3d",
   "metadata": {},
   "outputs": [
    {
     "name": "stdout",
     "output_type": "stream",
     "text": [
      "First Parent class\n",
      "Second Parent class\n",
      "Child Class constructor\n"
     ]
    }
   ],
   "source": [
    "c=C()"
   ]
  },
  {
   "cell_type": "code",
   "execution_count": 17,
   "id": "8e90e841",
   "metadata": {},
   "outputs": [
    {
     "name": "stdout",
     "output_type": "stream",
     "text": [
      "First class method\n",
      "First class method\n",
      "Child Class method\n"
     ]
    }
   ],
   "source": [
    "c.f3()"
   ]
  },
  {
   "cell_type": "code",
   "execution_count": 21,
   "id": "ef2434c4",
   "metadata": {},
   "outputs": [],
   "source": [
    "class A:\n",
    "    def __init__(self):\n",
    "        print('First Parent class')\n",
    "    def f1(self):\n",
    "        print('First class method')\n",
    "# Second Parent class:\n",
    "class B:\n",
    "    def __init__(self):\n",
    "        print('Second Parent class')\n",
    "    def f1(self):\n",
    "        print('Second class method')\n",
    "# Child Class :\n",
    "class C(B,A):\n",
    "    def __init__(self):\n",
    "        A.__init__(self) # Calling first parent class\n",
    "        B.__init__(self) # Calling Second Parent class\n",
    "        print('Child Class constructor')\n",
    "    def f3(self):\n",
    "        C.f1(self)\n",
    "        C.f1(self)\n",
    "        print('Child Class method')"
   ]
  },
  {
   "cell_type": "code",
   "execution_count": 25,
   "id": "c3cad3e1",
   "metadata": {},
   "outputs": [
    {
     "name": "stdout",
     "output_type": "stream",
     "text": [
      "Second Parent class\n",
      "First Parent class\n",
      "Child Class constructor\n"
     ]
    }
   ],
   "source": [
    "d = C()"
   ]
  },
  {
   "cell_type": "code",
   "execution_count": 26,
   "id": "028aa6d9",
   "metadata": {},
   "outputs": [
    {
     "name": "stdout",
     "output_type": "stream",
     "text": [
      "Second class method\n",
      "Second class method\n",
      "Child Class method\n"
     ]
    }
   ],
   "source": [
    "d.f3()"
   ]
  },
  {
   "cell_type": "code",
   "execution_count": null,
   "id": "70f5503d",
   "metadata": {},
   "outputs": [],
   "source": [
    "# We are declaring same method names in two different parent classes and the methods are executed based on the order\n",
    "# of sequence of calling of parent class calling  inside the child class. The child class gives priority to the first called\n",
    "# class in the declaration. There order of declaration matters\n",
    "# Example:\n",
    "# class C(A,B): It first calls parent A Class and secondly it calls parent B class and gives first priority to class A and its methods\n",
    "# class C(B,A): It first calls parent B Class and secondly it calls parent A class and gives first priority to class B and its methods"
   ]
  },
  {
   "cell_type": "code",
   "execution_count": 27,
   "id": "4fec1c94",
   "metadata": {},
   "outputs": [],
   "source": [
    "class A:    \n",
    "    def __init__(self):\n",
    "        print('First Parent class')\n",
    "    def f1(self):\n",
    "        print('First class method')\n",
    "# Second Parent class:\n",
    "class B:\n",
    "    def __init__(self):\n",
    "        print('Second Parent class')\n",
    "    def f1(self):\n",
    "        print('Second class method')\n",
    "# Child Class :\n",
    "class C(A,B):\n",
    "    def __init__(self):\n",
    "        A.__init__(self) # Calling first parent class\n",
    "        B.__init__(self) # Calling Second Parent class\n",
    "        print('Child Class constructor')\n",
    "    def f3(self):\n",
    "        self.f1()\n",
    "        self.f1()\n",
    "        print('Child Class method')\n",
    "        "
   ]
  },
  {
   "cell_type": "code",
   "execution_count": 28,
   "id": "7579a975",
   "metadata": {},
   "outputs": [
    {
     "name": "stdout",
     "output_type": "stream",
     "text": [
      "First Parent class\n",
      "Second Parent class\n",
      "Child Class constructor\n"
     ]
    }
   ],
   "source": [
    "g = C()"
   ]
  },
  {
   "cell_type": "code",
   "execution_count": 29,
   "id": "7539ac50",
   "metadata": {},
   "outputs": [
    {
     "name": "stdout",
     "output_type": "stream",
     "text": [
      "First class method\n",
      "First class method\n",
      "Child Class method\n"
     ]
    }
   ],
   "source": [
    "g.f3()"
   ]
  },
  {
   "cell_type": "code",
   "execution_count": 30,
   "id": "016b97b3",
   "metadata": {},
   "outputs": [],
   "source": [
    "class A:    \n",
    "    def __init__(self):\n",
    "        print('First Parent class')\n",
    "    def f1(self):\n",
    "        print('First class method')\n",
    "# Second Parent class:\n",
    "class B:\n",
    "    def __init__(self):\n",
    "        print('Second Parent class')\n",
    "    def f1(self):\n",
    "        print('Second class method')\n",
    "# Child Class :\n",
    "class C(A,B):\n",
    "    def __init__(self):\n",
    "        A.__init__(self) # Calling first parent class\n",
    "        B.__init__(self) # Calling Second Parent class\n",
    "        print('Child Class constructor')\n",
    "    def f3(self):\n",
    "        A.f1(self)\n",
    "        B.f1(self)\n",
    "        print('Child Class method')\n",
    "        "
   ]
  },
  {
   "cell_type": "code",
   "execution_count": 31,
   "id": "07159345",
   "metadata": {},
   "outputs": [
    {
     "name": "stdout",
     "output_type": "stream",
     "text": [
      "First Parent class\n",
      "Second Parent class\n",
      "Child Class constructor\n"
     ]
    }
   ],
   "source": [
    "aadhi = C()"
   ]
  },
  {
   "cell_type": "code",
   "execution_count": 32,
   "id": "f164901e",
   "metadata": {},
   "outputs": [
    {
     "name": "stdout",
     "output_type": "stream",
     "text": [
      "First class method\n",
      "Second class method\n",
      "Child Class method\n"
     ]
    }
   ],
   "source": [
    "aadhi.f3()"
   ]
  },
  {
   "cell_type": "code",
   "execution_count": null,
   "id": "a3b69600",
   "metadata": {},
   "outputs": [],
   "source": [
    "# Multilevel Inheritance:\n",
    "# 1 Grand parent class --> 1 parent class --> 1 child class\n",
    "# A --> Grand parent\n",
    "# B --> Parent\n",
    "# C --> Child"
   ]
  },
  {
   "cell_type": "code",
   "execution_count": 3,
   "id": "b005f4b6",
   "metadata": {},
   "outputs": [],
   "source": [
    "# Grand Parent class:\n",
    "# Order of implementation changes with the changes in the position of the statements\n",
    "class A:\n",
    "    def __init__(self):\n",
    "        print('Grand Parent Class constructor')\n",
    "    def f1(self):\n",
    "        print('Grand Parent class method')\n",
    "        \n",
    "# Parent Class:\n",
    "class B(A):\n",
    "    def __init__(self):\n",
    "        # calling Grand Parent class\n",
    "        A.__init__(self)\n",
    "        print('Parent Class constructor')\n",
    "       \n",
    "    def f2(self):\n",
    "        print('Parent class method')\n",
    "    \n",
    "#Child Class:\n",
    "class X(B):\n",
    "    def __init__(self):\n",
    "        B.__init__(self) # Calling parent class\n",
    "        print('Child class constructor')\n",
    "        \n",
    "        \n",
    "    def f3(self):\n",
    "        print('Child class method')\n",
    "    \n",
    "\n",
    "# During inheritance,When the parent class and grand parent class constructor calling is avoided \n",
    "# the constructor of those classes cannot be accessible\n",
    "# But the methods are accessible of the parent and grand parent classes . \n",
    "# If there are any data members present the methods also become unaccessible that is in parameterized constructor case\n",
    "\n",
    "\n"
   ]
  },
  {
   "cell_type": "code",
   "execution_count": 4,
   "id": "db702b38",
   "metadata": {},
   "outputs": [
    {
     "name": "stdout",
     "output_type": "stream",
     "text": [
      "Child class constructor\n"
     ]
    }
   ],
   "source": [
    "earn = X()"
   ]
  },
  {
   "cell_type": "code",
   "execution_count": 5,
   "id": "957291bf",
   "metadata": {},
   "outputs": [
    {
     "name": "stdout",
     "output_type": "stream",
     "text": [
      "Child class method\n"
     ]
    }
   ],
   "source": [
    "earn.f3()"
   ]
  },
  {
   "cell_type": "code",
   "execution_count": 6,
   "id": "fd52edea",
   "metadata": {},
   "outputs": [
    {
     "name": "stdout",
     "output_type": "stream",
     "text": [
      "Grand Parent class method\n"
     ]
    }
   ],
   "source": [
    "earn.f1()"
   ]
  },
  {
   "cell_type": "code",
   "execution_count": 7,
   "id": "18374d9c",
   "metadata": {},
   "outputs": [
    {
     "name": "stdout",
     "output_type": "stream",
     "text": [
      "Parent class method\n"
     ]
    }
   ],
   "source": [
    "earn.f2()"
   ]
  },
  {
   "cell_type": "code",
   "execution_count": null,
   "id": "f82037b6",
   "metadata": {},
   "outputs": [],
   "source": [
    "# Hierarical Inheritance:\n",
    "    # One parent class --> Multiple child class \n",
    "    # A --> Parent\n",
    "    # B,C,D--> Childs\n",
    "# Hybrid Inheritance--> Add any two or more than 2 inheritance\n",
    "    # which is a mixture of inheritances"
   ]
  },
  {
   "cell_type": "markdown",
   "id": "ea034ae4",
   "metadata": {},
   "source": [
    "## Polymorphism"
   ]
  },
  {
   "cell_type": "code",
   "execution_count": null,
   "id": "0677e2af",
   "metadata": {},
   "outputs": [],
   "source": [
    "# Poly -> Many, Morph -> forms\n",
    "# If there are more than one meaning of single entity \n",
    "# Eg: Our smartphome screen size is limited we can use every application which is installed in my phone \n",
    "# Different usage of different applications\n",
    "# In a game we have different characters but all the characters are controlled using two keys in the remote\n",
    "# In polymorphism we have two concepts called\n",
    "# 1.Method Overloading\n",
    "# 2.Method Overriding\n",
    "\n",
    "# Method Overloading:\n",
    "   # Methods having same name,but with different signatures\n",
    "# What is a signature: \n",
    " # Eg: We are playing the games which has two buttons Run and attack. Every character has different definitions of run and \n",
    "# different definitions of attack\n",
    "# Some characters run fast , some characters slide, some jump--> but every person is running that is the real example\n",
    "# of method overloading in which the method name is same which is run\n",
    "# In addition button in calculator, the method name is same \n",
    "# but it does not look for the values which we are using it only adds.The values can 6,5,4,7 digit etc it only does is addition\n",
    "\n",
    "\n",
    " \n"
   ]
  },
  {
   "cell_type": "code",
   "execution_count": 8,
   "id": "02df11c8",
   "metadata": {},
   "outputs": [],
   "source": [
    "# Method overloading: Method overloading doesn't work in python and it doesn't exist in python\n",
    "# There is no concept of pointers in java.It is a very important concept for programming language\n",
    "class add:\n",
    "    def m1(self,a,b):\n",
    "        return a+b\n",
    "    def m1(self,a,v,c):\n",
    "        return a+v+c\n",
    "    "
   ]
  },
  {
   "cell_type": "code",
   "execution_count": 9,
   "id": "c968ab6a",
   "metadata": {},
   "outputs": [],
   "source": [
    "obj = add()"
   ]
  },
  {
   "cell_type": "code",
   "execution_count": 10,
   "id": "69f12d3d",
   "metadata": {},
   "outputs": [
    {
     "data": {
      "text/plain": [
       "6"
      ]
     },
     "execution_count": 10,
     "metadata": {},
     "output_type": "execute_result"
    }
   ],
   "source": [
    "obj.m1(1,2,3)"
   ]
  },
  {
   "cell_type": "code",
   "execution_count": 11,
   "id": "e8c6eb29",
   "metadata": {},
   "outputs": [
    {
     "ename": "TypeError",
     "evalue": "m1() missing 1 required positional argument: 'c'",
     "output_type": "error",
     "traceback": [
      "\u001b[1;31m---------------------------------------------------------------------------\u001b[0m",
      "\u001b[1;31mTypeError\u001b[0m                                 Traceback (most recent call last)",
      "\u001b[1;32m~\\AppData\\Local\\Temp/ipykernel_16760/1380755941.py\u001b[0m in \u001b[0;36m<module>\u001b[1;34m\u001b[0m\n\u001b[1;32m----> 1\u001b[1;33m \u001b[0mobj\u001b[0m\u001b[1;33m.\u001b[0m\u001b[0mm1\u001b[0m\u001b[1;33m(\u001b[0m\u001b[1;36m4\u001b[0m\u001b[1;33m,\u001b[0m\u001b[1;36m5\u001b[0m\u001b[1;33m)\u001b[0m\u001b[1;33m\u001b[0m\u001b[1;33m\u001b[0m\u001b[0m\n\u001b[0m",
      "\u001b[1;31mTypeError\u001b[0m: m1() missing 1 required positional argument: 'c'"
     ]
    }
   ],
   "source": [
    "obj.m1(4,5) #If it is Java language it would have worked"
   ]
  },
  {
   "cell_type": "code",
   "execution_count": null,
   "id": "1d48c66c",
   "metadata": {},
   "outputs": [],
   "source": [
    "# Method Overriding:\n",
    " # Modifying the method signature "
   ]
  },
  {
   "cell_type": "code",
   "execution_count": 45,
   "id": "ab182ad7",
   "metadata": {},
   "outputs": [],
   "source": [
    "class add:\n",
    "    def m1(self,a,b,c):\n",
    "        return a+b+c\n",
    "    def m2(self,a,b,c):\n",
    "        return print(a*b*c)\n",
    "class demo(add):\n",
    "    def m2(self,a,b,c):\n",
    "        add.m2(self,a,b,c)\n",
    "        d=34\n",
    "        return a*b*c*d\n",
    "# Inhertining means consuming the properties from parent class"
   ]
  },
  {
   "cell_type": "code",
   "execution_count": 46,
   "id": "9e2efe1a",
   "metadata": {},
   "outputs": [],
   "source": [
    "obj1 = add()"
   ]
  },
  {
   "cell_type": "code",
   "execution_count": 47,
   "id": "12ea06f1",
   "metadata": {},
   "outputs": [
    {
     "name": "stdout",
     "output_type": "stream",
     "text": [
      "15\n",
      "504\n",
      "None\n"
     ]
    }
   ],
   "source": [
    "print(obj1.m1(4,5,6))\n",
    "print(obj1.m2(7,8,9))"
   ]
  },
  {
   "cell_type": "code",
   "execution_count": 48,
   "id": "0456506b",
   "metadata": {},
   "outputs": [],
   "source": [
    "obj2 = demo()"
   ]
  },
  {
   "cell_type": "code",
   "execution_count": 49,
   "id": "018e5885",
   "metadata": {},
   "outputs": [
    {
     "name": "stdout",
     "output_type": "stream",
     "text": [
      "15\n",
      "504\n",
      "17136\n"
     ]
    }
   ],
   "source": [
    "print(obj2.m1(4,5,6))\n",
    "print(obj2.m2(7,8,9))"
   ]
  },
  {
   "cell_type": "code",
   "execution_count": 54,
   "id": "5651952f",
   "metadata": {},
   "outputs": [],
   "source": [
    "class add:\n",
    "    def m1(self,a,b,c):\n",
    "        return a+b+c\n",
    "    def m2(self,a,b,c):\n",
    "        return (a*b*c)\n",
    "class demo(add):\n",
    "    def __init__(self):\n",
    "        print('Constructor')\n",
    "    def m2(self,a,b,c):\n",
    "        add.m2(self,a,b,c)\n",
    "        d=34\n",
    "        return a*b*c*d"
   ]
  },
  {
   "cell_type": "code",
   "execution_count": 55,
   "id": "39d4f7dd",
   "metadata": {},
   "outputs": [],
   "source": [
    "obj1 = add()"
   ]
  },
  {
   "cell_type": "code",
   "execution_count": 56,
   "id": "f7865c29",
   "metadata": {},
   "outputs": [
    {
     "name": "stdout",
     "output_type": "stream",
     "text": [
      "15\n",
      "504\n"
     ]
    }
   ],
   "source": [
    "print(obj1.m1(4,5,6))\n",
    "print(obj1.m2(7,8,9))"
   ]
  },
  {
   "cell_type": "code",
   "execution_count": 58,
   "id": "ad5b36d1",
   "metadata": {},
   "outputs": [
    {
     "name": "stdout",
     "output_type": "stream",
     "text": [
      "Constructor\n",
      "15\n",
      "17136\n"
     ]
    }
   ],
   "source": [
    "obj2 = demo()\n",
    "print(obj2.m1(4,5,6))\n",
    "print(obj2.m2(7,8,9))"
   ]
  },
  {
   "cell_type": "code",
   "execution_count": 60,
   "id": "90c6c234",
   "metadata": {},
   "outputs": [],
   "source": [
    "# Signature is the structure of the function / method\n",
    "class add:\n",
    "    def m1(self,a,v):\n",
    "        return a+v\n",
    "    def m2(self,a,c):\n",
    "        return a-c\n",
    "class demo(add):\n",
    "    def m2(self,a,c):\n",
    "        return a*c\n",
    "# a,c,v are parameters and they are not data members. Since the constructor is not defined"
   ]
  },
  {
   "cell_type": "code",
   "execution_count": 61,
   "id": "7ec277e7",
   "metadata": {},
   "outputs": [],
   "source": [
    "obj = demo()"
   ]
  },
  {
   "cell_type": "code",
   "execution_count": 62,
   "id": "38fdf5a8",
   "metadata": {},
   "outputs": [
    {
     "data": {
      "text/plain": [
       "2025"
      ]
     },
     "execution_count": 62,
     "metadata": {},
     "output_type": "execute_result"
    }
   ],
   "source": [
    "obj.m2(45,45)"
   ]
  },
  {
   "cell_type": "markdown",
   "id": "e5f5b37e",
   "metadata": {},
   "source": [
    "## Encapsulation:"
   ]
  },
  {
   "cell_type": "code",
   "execution_count": 63,
   "id": "53d30540",
   "metadata": {},
   "outputs": [],
   "source": [
    "# Encapsulation:\n",
    "# wrapping up attributes and methods into a single entity\n",
    "\n",
    "# Benefits:\n",
    "# It puts restriction on accessing the data\n",
    "# Eg: we cannot edit someone's profile in social media, we cannot delete someone's comment in social media\n",
    "# It prevents accidental modification of data\n",
    "# Eg: Host of a google meet is the highest hierarchy and has highest rights in the meeting, pannelist and participants have\n",
    "# less rights in the meeting \n",
    "# Provides security to the code.\n"
   ]
  },
  {
   "cell_type": "code",
   "execution_count": 64,
   "id": "4e35cd7a",
   "metadata": {},
   "outputs": [],
   "source": [
    "# Implementation of encapsulation:\n",
    "# Access modifiers: We make hierarchy of the data\n",
    "# It procides level of security to the data.\n",
    "# There are three types of access modifiers\n",
    "  # Public\n",
    "  # Private\n",
    "  # Protected\n"
   ]
  },
  {
   "cell_type": "code",
   "execution_count": 8,
   "id": "595df19f",
   "metadata": {},
   "outputs": [],
   "source": [
    "# Public:\n",
    "# It can be accessed both inside and outside of the class\n",
    "# attribute_name = value\n",
    "# This way makes the value accessed using method, object and class\n",
    "class demo:\n",
    "    t=76\n",
    "    def value(self):\n",
    "        print(self.t)"
   ]
  },
  {
   "cell_type": "code",
   "execution_count": 9,
   "id": "9c0183fd",
   "metadata": {},
   "outputs": [],
   "source": [
    "d = demo()"
   ]
  },
  {
   "cell_type": "code",
   "execution_count": 11,
   "id": "374b7fa7",
   "metadata": {},
   "outputs": [
    {
     "name": "stdout",
     "output_type": "stream",
     "text": [
      "76\n",
      "76\n",
      "76\n"
     ]
    }
   ],
   "source": [
    "d.value() # from method\n",
    "print(d.t)# from object\n",
    "print(demo.t)# from class\n"
   ]
  },
  {
   "cell_type": "code",
   "execution_count": 54,
   "id": "b33271aa",
   "metadata": {},
   "outputs": [],
   "source": [
    "# Protected:\n",
    "# can be accessed inside the class as well as outside of the class but in subclass only\n",
    "# _attributename = value\n",
    "\n",
    "class demo:\n",
    "    _t = 89\n",
    "    def value(self):\n",
    "        print(self._t)\n",
    "        \n",
    "class xyz(demo):\n",
    "    def __init__(self):\n",
    "        demo.value(self)\n",
    "    \n",
    "    def val(self):\n",
    "        #demo.value(self)\n",
    "        print(self._t)"
   ]
  },
  {
   "cell_type": "code",
   "execution_count": 55,
   "id": "3c13a88b",
   "metadata": {},
   "outputs": [],
   "source": [
    "# r = demo()"
   ]
  },
  {
   "cell_type": "code",
   "execution_count": 30,
   "id": "fa8e00d7",
   "metadata": {},
   "outputs": [],
   "source": [
    "# print(r._t)\n",
    "# print(demo._t)\n",
    "# r.value()"
   ]
  },
  {
   "cell_type": "code",
   "execution_count": 56,
   "id": "bf549bed",
   "metadata": {},
   "outputs": [
    {
     "name": "stdout",
     "output_type": "stream",
     "text": [
      "89\n"
     ]
    }
   ],
   "source": [
    "e = xyz()"
   ]
  },
  {
   "cell_type": "code",
   "execution_count": 57,
   "id": "f92c73bb",
   "metadata": {},
   "outputs": [
    {
     "data": {
      "text/plain": [
       "89"
      ]
     },
     "execution_count": 57,
     "metadata": {},
     "output_type": "execute_result"
    }
   ],
   "source": [
    "e._t"
   ]
  },
  {
   "cell_type": "code",
   "execution_count": 58,
   "id": "a010c56a",
   "metadata": {},
   "outputs": [
    {
     "name": "stdout",
     "output_type": "stream",
     "text": [
      "89\n",
      "89\n",
      "89\n",
      "89\n",
      "89\n",
      "89\n"
     ]
    }
   ],
   "source": [
    "print(e._t) # from object\n",
    "print(xyz._t)# from class\n",
    "e.val() # from method\n",
    "e.value() # from parent class method\n",
    "print(demo._t) # from parent class\n",
    "print(xyz._t)\n"
   ]
  },
  {
   "cell_type": "code",
   "execution_count": 59,
   "id": "390173cb",
   "metadata": {},
   "outputs": [],
   "source": [
    "# Private:\n",
    "# can be accessed inside the class, it hides the data from unwanted users and implements the feature of security\n",
    "# __attributename = value\n",
    "\n",
    "class demo:\n",
    "    __t = 65\n",
    "    def values(self):\n",
    "        print(self.__t)"
   ]
  },
  {
   "cell_type": "code",
   "execution_count": 60,
   "id": "7b4c950d",
   "metadata": {},
   "outputs": [],
   "source": [
    "d = demo()"
   ]
  },
  {
   "cell_type": "code",
   "execution_count": 63,
   "id": "cf0b8375",
   "metadata": {},
   "outputs": [
    {
     "name": "stdout",
     "output_type": "stream",
     "text": [
      "65\n"
     ]
    }
   ],
   "source": [
    "d.values() # from method"
   ]
  },
  {
   "cell_type": "code",
   "execution_count": 61,
   "id": "38fe95a9",
   "metadata": {},
   "outputs": [
    {
     "ename": "AttributeError",
     "evalue": "'demo' object has no attribute '__t'",
     "output_type": "error",
     "traceback": [
      "\u001b[1;31m---------------------------------------------------------------------------\u001b[0m",
      "\u001b[1;31mAttributeError\u001b[0m                            Traceback (most recent call last)",
      "\u001b[1;32m~\\AppData\\Local\\Temp/ipykernel_10476/538494249.py\u001b[0m in \u001b[0;36m<module>\u001b[1;34m\u001b[0m\n\u001b[1;32m----> 1\u001b[1;33m \u001b[0md\u001b[0m\u001b[1;33m.\u001b[0m\u001b[0m__t\u001b[0m\u001b[1;33m\u001b[0m\u001b[1;33m\u001b[0m\u001b[0m\n\u001b[0m",
      "\u001b[1;31mAttributeError\u001b[0m: 'demo' object has no attribute '__t'"
     ]
    }
   ],
   "source": [
    "d.__t # from object"
   ]
  },
  {
   "cell_type": "code",
   "execution_count": 62,
   "id": "7ef9fe3e",
   "metadata": {},
   "outputs": [
    {
     "ename": "AttributeError",
     "evalue": "type object 'demo' has no attribute '__t'",
     "output_type": "error",
     "traceback": [
      "\u001b[1;31m---------------------------------------------------------------------------\u001b[0m",
      "\u001b[1;31mAttributeError\u001b[0m                            Traceback (most recent call last)",
      "\u001b[1;32m~\\AppData\\Local\\Temp/ipykernel_10476/1353859446.py\u001b[0m in \u001b[0;36m<module>\u001b[1;34m\u001b[0m\n\u001b[1;32m----> 1\u001b[1;33m \u001b[0mdemo\u001b[0m\u001b[1;33m.\u001b[0m\u001b[0m__t\u001b[0m\u001b[1;33m\u001b[0m\u001b[1;33m\u001b[0m\u001b[0m\n\u001b[0m",
      "\u001b[1;31mAttributeError\u001b[0m: type object 'demo' has no attribute '__t'"
     ]
    }
   ],
   "source": [
    "demo.__t # from class"
   ]
  },
  {
   "cell_type": "code",
   "execution_count": 66,
   "id": "9b4e292e",
   "metadata": {},
   "outputs": [
    {
     "ename": "NameError",
     "evalue": "name 'null' is not defined",
     "output_type": "error",
     "traceback": [
      "\u001b[1;31m---------------------------------------------------------------------------\u001b[0m",
      "\u001b[1;31mNameError\u001b[0m                                 Traceback (most recent call last)",
      "\u001b[1;32m~\\AppData\\Local\\Temp/ipykernel_10476/4012577258.py\u001b[0m in \u001b[0;36m<module>\u001b[1;34m\u001b[0m\n\u001b[1;32m----> 1\u001b[1;33m \u001b[1;32mimport\u001b[0m \u001b[0mmodule\u001b[0m\u001b[1;33m.\u001b[0m\u001b[0mipynb\u001b[0m\u001b[1;33m\u001b[0m\u001b[1;33m\u001b[0m\u001b[0m\n\u001b[0m",
      "\u001b[1;32m~\\module.py\u001b[0m in \u001b[0;36m<module>\u001b[1;34m\u001b[0m\n\u001b[0;32m     25\u001b[0m   {\n\u001b[0;32m     26\u001b[0m    \u001b[1;34m\"cell_type\"\u001b[0m\u001b[1;33m:\u001b[0m \u001b[1;34m\"code\"\u001b[0m\u001b[1;33m,\u001b[0m\u001b[1;33m\u001b[0m\u001b[1;33m\u001b[0m\u001b[0m\n\u001b[1;32m---> 27\u001b[1;33m    \u001b[1;34m\"execution_count\"\u001b[0m\u001b[1;33m:\u001b[0m \u001b[0mnull\u001b[0m\u001b[1;33m,\u001b[0m\u001b[1;33m\u001b[0m\u001b[1;33m\u001b[0m\u001b[0m\n\u001b[0m\u001b[0;32m     28\u001b[0m    \u001b[1;34m\"id\"\u001b[0m\u001b[1;33m:\u001b[0m \u001b[1;34m\"07460923\"\u001b[0m\u001b[1;33m,\u001b[0m\u001b[1;33m\u001b[0m\u001b[1;33m\u001b[0m\u001b[0m\n\u001b[0;32m     29\u001b[0m    \u001b[1;34m\"metadata\"\u001b[0m\u001b[1;33m:\u001b[0m \u001b[1;33m{\u001b[0m\u001b[1;33m}\u001b[0m\u001b[1;33m,\u001b[0m\u001b[1;33m\u001b[0m\u001b[1;33m\u001b[0m\u001b[0m\n",
      "\u001b[1;31mNameError\u001b[0m: name 'null' is not defined"
     ]
    }
   ],
   "source": [
    "from module.ipynb impr"
   ]
  },
  {
   "cell_type": "code",
   "execution_count": null,
   "id": "d4ffd9e8",
   "metadata": {},
   "outputs": [],
   "source": []
  }
 ],
 "metadata": {
  "kernelspec": {
   "display_name": "Python 3 (ipykernel)",
   "language": "python",
   "name": "python3"
  },
  "language_info": {
   "codemirror_mode": {
    "name": "ipython",
    "version": 3
   },
   "file_extension": ".py",
   "mimetype": "text/x-python",
   "name": "python",
   "nbconvert_exporter": "python",
   "pygments_lexer": "ipython3",
   "version": "3.9.7"
  }
 },
 "nbformat": 4,
 "nbformat_minor": 5
}
