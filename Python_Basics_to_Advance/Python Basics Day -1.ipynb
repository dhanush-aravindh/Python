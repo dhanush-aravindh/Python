{
 "cells": [
  {
   "cell_type": "raw",
   "id": "4e537778",
   "metadata": {},
   "source": [
    "Python Basics\n",
    "\n",
    "1. Variables\n",
    "2. Literals\n",
    "3. Data types\n",
    "4. Slicing and Indexing\n",
    "5. conditional Statements\n",
    "6. Looping Statements\n",
    "7. Functions"
   ]
  },
  {
   "cell_type": "markdown",
   "id": "1fc75d12",
   "metadata": {},
   "source": [
    "# 1. Variables "
   ]
  },
  {
   "cell_type": "raw",
   "id": "032706b1",
   "metadata": {},
   "source": [
    "variables--> It is a memory location where we store the value or Information."
   ]
  },
  {
   "cell_type": "code",
   "execution_count": null,
   "id": "2963b1c2",
   "metadata": {},
   "outputs": [],
   "source": [
    "a=10 # a is a variable and the number 10 is a value"
   ]
  },
  {
   "cell_type": "code",
   "execution_count": null,
   "id": "29db90a5",
   "metadata": {},
   "outputs": [],
   "source": [
    "name=\"Dhanush\"# name is a variable and the word \"Dhanush\" is value"
   ]
  },
  {
   "cell_type": "raw",
   "id": "af1525f5",
   "metadata": {},
   "source": [
    "Three Rules to define a variable \n",
    "\n",
    "1. Keywords cannot be assigned to a variable names. ex--> type,print,def,import,class (inbuild keywords)\n"
   ]
  },
  {
   "cell_type": "code",
   "execution_count": 1,
   "id": "2c158ee8",
   "metadata": {},
   "outputs": [
    {
     "ename": "SyntaxError",
     "evalue": "invalid syntax (Temp/ipykernel_9688/549944967.py, line 1)",
     "output_type": "error",
     "traceback": [
      "\u001b[1;36m  File \u001b[1;32m\"C:\\Users\\HP\\AppData\\Local\\Temp/ipykernel_9688/549944967.py\"\u001b[1;36m, line \u001b[1;32m1\u001b[0m\n\u001b[1;33m    def=\"Dhanush\"\u001b[0m\n\u001b[1;37m       ^\u001b[0m\n\u001b[1;31mSyntaxError\u001b[0m\u001b[1;31m:\u001b[0m invalid syntax\n"
     ]
    }
   ],
   "source": [
    "def=\"Dhanush\""
   ]
  },
  {
   "cell_type": "code",
   "execution_count": 2,
   "id": "2c8c76c0",
   "metadata": {},
   "outputs": [
    {
     "name": "stdout",
     "output_type": "stream",
     "text": [
      "Dhanush\n"
     ]
    }
   ],
   "source": [
    "Def=\"Dhanush\"\n",
    "print(Def)"
   ]
  },
  {
   "cell_type": "raw",
   "id": "e2e304ff",
   "metadata": {},
   "source": [
    "2. Variable names can start with letter or '_' but never with a number"
   ]
  },
  {
   "cell_type": "code",
   "execution_count": 5,
   "id": "7a5c73bf",
   "metadata": {},
   "outputs": [],
   "source": [
    "abc=1"
   ]
  },
  {
   "cell_type": "code",
   "execution_count": 4,
   "id": "de7dfaf9",
   "metadata": {},
   "outputs": [],
   "source": [
    "_abc=3"
   ]
  },
  {
   "cell_type": "code",
   "execution_count": 3,
   "id": "d15c3d75",
   "metadata": {},
   "outputs": [
    {
     "ename": "SyntaxError",
     "evalue": "invalid syntax (Temp/ipykernel_9688/4239822627.py, line 1)",
     "output_type": "error",
     "traceback": [
      "\u001b[1;36m  File \u001b[1;32m\"C:\\Users\\HP\\AppData\\Local\\Temp/ipykernel_9688/4239822627.py\"\u001b[1;36m, line \u001b[1;32m1\u001b[0m\n\u001b[1;33m    2abc=4\u001b[0m\n\u001b[1;37m     ^\u001b[0m\n\u001b[1;31mSyntaxError\u001b[0m\u001b[1;31m:\u001b[0m invalid syntax\n"
     ]
    }
   ],
   "source": [
    "2abc=4"
   ]
  },
  {
   "cell_type": "code",
   "execution_count": 6,
   "id": "c78a4b84",
   "metadata": {},
   "outputs": [],
   "source": [
    "abc1=5"
   ]
  },
  {
   "cell_type": "code",
   "execution_count": 7,
   "id": "c7c42d44",
   "metadata": {},
   "outputs": [],
   "source": [
    "my_name=\"Dhanush Aravindh\""
   ]
  },
  {
   "cell_type": "raw",
   "id": "3c6b0aa0",
   "metadata": {},
   "source": [
    "3. variable name cannot have any special character rather than '_'.ex-->@,#,$,%,^"
   ]
  },
  {
   "cell_type": "code",
   "execution_count": 8,
   "id": "c7814e97",
   "metadata": {},
   "outputs": [
    {
     "ename": "SyntaxError",
     "evalue": "invalid syntax (Temp/ipykernel_9688/4132685363.py, line 1)",
     "output_type": "error",
     "traceback": [
      "\u001b[1;36m  File \u001b[1;32m\"C:\\Users\\HP\\AppData\\Local\\Temp/ipykernel_9688/4132685363.py\"\u001b[1;36m, line \u001b[1;32m1\u001b[0m\n\u001b[1;33m    @num1=25\u001b[0m\n\u001b[1;37m         ^\u001b[0m\n\u001b[1;31mSyntaxError\u001b[0m\u001b[1;31m:\u001b[0m invalid syntax\n"
     ]
    }
   ],
   "source": [
    "@num1=25"
   ]
  },
  {
   "cell_type": "code",
   "execution_count": 9,
   "id": "b332e040",
   "metadata": {},
   "outputs": [
    {
     "name": "stdout",
     "output_type": "stream",
     "text": [
      "100\n"
     ]
    }
   ],
   "source": [
    "x1=100\n",
    "print(x1)"
   ]
  },
  {
   "cell_type": "code",
   "execution_count": 10,
   "id": "9e413bf2",
   "metadata": {},
   "outputs": [],
   "source": [
    "num_1=500"
   ]
  },
  {
   "cell_type": "markdown",
   "id": "b4e1c6b7",
   "metadata": {},
   "source": [
    "# 2.Literals"
   ]
  },
  {
   "cell_type": "raw",
   "id": "8f5aa475",
   "metadata": {},
   "source": [
    "literals--> the value which is assigned to a variable\n",
    "type()--> gives the datatype of the value stored by a variable.\n",
    "print()--> It only prints the statement or value of the variable which is called.It doen't store any data or value."
   ]
  },
  {
   "cell_type": "code",
   "execution_count": 5,
   "id": "e52bf2c1",
   "metadata": {},
   "outputs": [],
   "source": [
    "var1=304\n",
    "var2=\"Welcome to India\"\n",
    "var3='Hello all'\n",
    "var4=3.6\n",
    "var5=True"
   ]
  },
  {
   "cell_type": "code",
   "execution_count": 9,
   "id": "80d475a7",
   "metadata": {},
   "outputs": [
    {
     "name": "stdout",
     "output_type": "stream",
     "text": [
      "304\n"
     ]
    },
    {
     "data": {
      "text/plain": [
       "int"
      ]
     },
     "execution_count": 9,
     "metadata": {},
     "output_type": "execute_result"
    }
   ],
   "source": [
    "print(var1)\n",
    "type(var1)"
   ]
  },
  {
   "cell_type": "code",
   "execution_count": 10,
   "id": "5590159b",
   "metadata": {},
   "outputs": [
    {
     "name": "stdout",
     "output_type": "stream",
     "text": [
      "Welcome to India\n"
     ]
    },
    {
     "data": {
      "text/plain": [
       "str"
      ]
     },
     "execution_count": 10,
     "metadata": {},
     "output_type": "execute_result"
    }
   ],
   "source": [
    "print(var2)\n",
    "type(var2)"
   ]
  },
  {
   "cell_type": "code",
   "execution_count": 8,
   "id": "7a978386",
   "metadata": {},
   "outputs": [
    {
     "data": {
      "text/plain": [
       "int"
      ]
     },
     "execution_count": 8,
     "metadata": {},
     "output_type": "execute_result"
    }
   ],
   "source": [
    "type(var1)"
   ]
  },
  {
   "cell_type": "code",
   "execution_count": 11,
   "id": "5eb0fbd8",
   "metadata": {},
   "outputs": [
    {
     "data": {
      "text/plain": [
       "float"
      ]
     },
     "execution_count": 11,
     "metadata": {},
     "output_type": "execute_result"
    }
   ],
   "source": [
    "type(var4)"
   ]
  },
  {
   "cell_type": "code",
   "execution_count": 12,
   "id": "69d737d3",
   "metadata": {},
   "outputs": [
    {
     "name": "stdout",
     "output_type": "stream",
     "text": [
      "Hello all\n"
     ]
    },
    {
     "data": {
      "text/plain": [
       "str"
      ]
     },
     "execution_count": 12,
     "metadata": {},
     "output_type": "execute_result"
    }
   ],
   "source": [
    "print(var3)\n",
    "type(var3)"
   ]
  },
  {
   "cell_type": "code",
   "execution_count": 13,
   "id": "20fd9df0",
   "metadata": {},
   "outputs": [
    {
     "name": "stdout",
     "output_type": "stream",
     "text": [
      "3.6\n"
     ]
    },
    {
     "data": {
      "text/plain": [
       "float"
      ]
     },
     "execution_count": 13,
     "metadata": {},
     "output_type": "execute_result"
    }
   ],
   "source": [
    "print(var4)\n",
    "type(var4)"
   ]
  },
  {
   "cell_type": "code",
   "execution_count": 14,
   "id": "ad011712",
   "metadata": {},
   "outputs": [
    {
     "name": "stdout",
     "output_type": "stream",
     "text": [
      "True\n"
     ]
    },
    {
     "data": {
      "text/plain": [
       "bool"
      ]
     },
     "execution_count": 14,
     "metadata": {},
     "output_type": "execute_result"
    }
   ],
   "source": [
    "print(var5)\n",
    "type(var5)"
   ]
  },
  {
   "cell_type": "code",
   "execution_count": 15,
   "id": "59ae7831",
   "metadata": {},
   "outputs": [
    {
     "ename": "TypeError",
     "evalue": "ord() expected a character, but string of length 9 found",
     "output_type": "error",
     "traceback": [
      "\u001b[1;31m---------------------------------------------------------------------------\u001b[0m",
      "\u001b[1;31mTypeError\u001b[0m                                 Traceback (most recent call last)",
      "\u001b[1;32m~\\AppData\\Local\\Temp/ipykernel_6780/1186615624.py\u001b[0m in \u001b[0;36m<module>\u001b[1;34m\u001b[0m\n\u001b[1;32m----> 1\u001b[1;33m \u001b[0mord\u001b[0m\u001b[1;33m(\u001b[0m\u001b[0mvar3\u001b[0m\u001b[1;33m)\u001b[0m\u001b[1;33m\u001b[0m\u001b[1;33m\u001b[0m\u001b[0m\n\u001b[0m",
      "\u001b[1;31mTypeError\u001b[0m: ord() expected a character, but string of length 9 found"
     ]
    }
   ],
   "source": [
    "ord(var3)"
   ]
  },
  {
   "cell_type": "code",
   "execution_count": 16,
   "id": "65c033f1",
   "metadata": {},
   "outputs": [
    {
     "ename": "TypeError",
     "evalue": "ord() expected string of length 1, but int found",
     "output_type": "error",
     "traceback": [
      "\u001b[1;31m---------------------------------------------------------------------------\u001b[0m",
      "\u001b[1;31mTypeError\u001b[0m                                 Traceback (most recent call last)",
      "\u001b[1;32m~\\AppData\\Local\\Temp/ipykernel_6780/2378308201.py\u001b[0m in \u001b[0;36m<module>\u001b[1;34m\u001b[0m\n\u001b[1;32m----> 1\u001b[1;33m \u001b[0mord\u001b[0m\u001b[1;33m(\u001b[0m\u001b[0mvar1\u001b[0m\u001b[1;33m)\u001b[0m\u001b[1;33m\u001b[0m\u001b[1;33m\u001b[0m\u001b[0m\n\u001b[0m",
      "\u001b[1;31mTypeError\u001b[0m: ord() expected string of length 1, but int found"
     ]
    }
   ],
   "source": [
    "ord(var1)"
   ]
  },
  {
   "cell_type": "code",
   "execution_count": 17,
   "id": "3017ee92",
   "metadata": {},
   "outputs": [
    {
     "ename": "TypeError",
     "evalue": "ord() expected string of length 1, but int found",
     "output_type": "error",
     "traceback": [
      "\u001b[1;31m---------------------------------------------------------------------------\u001b[0m",
      "\u001b[1;31mTypeError\u001b[0m                                 Traceback (most recent call last)",
      "\u001b[1;32m~\\AppData\\Local\\Temp/ipykernel_6780/1281724327.py\u001b[0m in \u001b[0;36m<module>\u001b[1;34m\u001b[0m\n\u001b[1;32m----> 1\u001b[1;33m \u001b[0mord\u001b[0m\u001b[1;33m(\u001b[0m\u001b[1;36m5\u001b[0m\u001b[1;33m)\u001b[0m\u001b[1;33m\u001b[0m\u001b[1;33m\u001b[0m\u001b[0m\n\u001b[0m",
      "\u001b[1;31mTypeError\u001b[0m: ord() expected string of length 1, but int found"
     ]
    }
   ],
   "source": [
    "ord(5)"
   ]
  },
  {
   "cell_type": "code",
   "execution_count": 18,
   "id": "55f7a6fc",
   "metadata": {},
   "outputs": [
    {
     "ename": "NameError",
     "evalue": "name 'a' is not defined",
     "output_type": "error",
     "traceback": [
      "\u001b[1;31m---------------------------------------------------------------------------\u001b[0m",
      "\u001b[1;31mNameError\u001b[0m                                 Traceback (most recent call last)",
      "\u001b[1;32m~\\AppData\\Local\\Temp/ipykernel_6780/2346218480.py\u001b[0m in \u001b[0;36m<module>\u001b[1;34m\u001b[0m\n\u001b[1;32m----> 1\u001b[1;33m \u001b[0mord\u001b[0m\u001b[1;33m(\u001b[0m\u001b[0ma\u001b[0m\u001b[1;33m)\u001b[0m\u001b[1;33m\u001b[0m\u001b[1;33m\u001b[0m\u001b[0m\n\u001b[0m",
      "\u001b[1;31mNameError\u001b[0m: name 'a' is not defined"
     ]
    }
   ],
   "source": [
    "ord(a)"
   ]
  },
  {
   "cell_type": "code",
   "execution_count": 19,
   "id": "17388f66",
   "metadata": {},
   "outputs": [
    {
     "ename": "TypeError",
     "evalue": "ord() expected string of length 1, but int found",
     "output_type": "error",
     "traceback": [
      "\u001b[1;31m---------------------------------------------------------------------------\u001b[0m",
      "\u001b[1;31mTypeError\u001b[0m                                 Traceback (most recent call last)",
      "\u001b[1;32m~\\AppData\\Local\\Temp/ipykernel_6780/3863447913.py\u001b[0m in \u001b[0;36m<module>\u001b[1;34m\u001b[0m\n\u001b[0;32m      1\u001b[0m \u001b[0mvar6\u001b[0m\u001b[1;33m=\u001b[0m \u001b[1;36m14\u001b[0m\u001b[1;33m\u001b[0m\u001b[1;33m\u001b[0m\u001b[0m\n\u001b[1;32m----> 2\u001b[1;33m \u001b[0mord\u001b[0m\u001b[1;33m(\u001b[0m\u001b[0mvar6\u001b[0m\u001b[1;33m)\u001b[0m\u001b[1;33m\u001b[0m\u001b[1;33m\u001b[0m\u001b[0m\n\u001b[0m",
      "\u001b[1;31mTypeError\u001b[0m: ord() expected string of length 1, but int found"
     ]
    }
   ],
   "source": [
    "var6= 14\n",
    "ord(var6)"
   ]
  },
  {
   "cell_type": "code",
   "execution_count": 20,
   "id": "6a5943b1",
   "metadata": {},
   "outputs": [
    {
     "data": {
      "text/plain": [
       "65"
      ]
     },
     "execution_count": 20,
     "metadata": {},
     "output_type": "execute_result"
    }
   ],
   "source": [
    "ord(\"A\")#It gives the ascii value of the given element."
   ]
  },
  {
   "cell_type": "code",
   "execution_count": 21,
   "id": "25ae91bc",
   "metadata": {},
   "outputs": [
    {
     "data": {
      "text/plain": [
       "53"
      ]
     },
     "execution_count": 21,
     "metadata": {},
     "output_type": "execute_result"
    }
   ],
   "source": [
    "ord(\"5\")"
   ]
  },
  {
   "cell_type": "raw",
   "id": "b5e48771",
   "metadata": {},
   "source": [
    "To get the ASCII code of a character, use the ord() function. To get the character encoded by an ASCII code number, use the chr() function. To know if all the characters present in a string are alphanumeric i.e. they are alphabets and numeric, use the isalnum() function."
   ]
  },
  {
   "cell_type": "code",
   "execution_count": 1,
   "id": "04386ae4",
   "metadata": {},
   "outputs": [
    {
     "ename": "NameError",
     "evalue": "name 'isanum' is not defined",
     "output_type": "error",
     "traceback": [
      "\u001b[1;31m---------------------------------------------------------------------------\u001b[0m",
      "\u001b[1;31mNameError\u001b[0m                                 Traceback (most recent call last)",
      "\u001b[1;32m~\\AppData\\Local\\Temp/ipykernel_12064/3381251876.py\u001b[0m in \u001b[0;36m<module>\u001b[1;34m\u001b[0m\n\u001b[1;32m----> 1\u001b[1;33m \u001b[0misanum\u001b[0m\u001b[1;33m(\u001b[0m\u001b[1;34m\"Dhanush Aravindhan\"\u001b[0m\u001b[1;33m)\u001b[0m\u001b[1;33m\u001b[0m\u001b[1;33m\u001b[0m\u001b[0m\n\u001b[0m",
      "\u001b[1;31mNameError\u001b[0m: name 'isanum' is not defined"
     ]
    }
   ],
   "source": [
    "isanum(\"Dhanush Aravindhan\")"
   ]
  },
  {
   "cell_type": "code",
   "execution_count": 10,
   "id": "f585621d",
   "metadata": {},
   "outputs": [
    {
     "name": "stdout",
     "output_type": "stream",
     "text": [
      "Enter the number26\n",
      "351.0\n",
      "0\n"
     ]
    }
   ],
   "source": [
    "num=int(input(\"Enter the number:\"))#It checks wheather the sum of n natural number is odd or even\n",
    "num1=((num*(num+1))/2)\n",
    "print (num1)\n",
    "if (num%2)==0:\n",
    "    print(0)\n",
    "else:\n",
    "    print(1)"
   ]
  },
  {
   "cell_type": "markdown",
   "id": "563a4cf1",
   "metadata": {},
   "source": [
    "# 3.Static and Dynamic way to assign a variable"
   ]
  },
  {
   "cell_type": "raw",
   "id": "1af72ab1",
   "metadata": {},
   "source": [
    "Static way--> value will be  assigned to a variable manually.Untill or unless we change the value of the variable the output remains same."
   ]
  },
  {
   "cell_type": "code",
   "execution_count": 3,
   "id": "1c659153",
   "metadata": {},
   "outputs": [
    {
     "name": "stdout",
     "output_type": "stream",
     "text": [
      "60\n"
     ]
    }
   ],
   "source": [
    "a=10\n",
    "b=20\n",
    "c=30 \n",
    "print(a+b+c)"
   ]
  },
  {
   "cell_type": "code",
   "execution_count": 4,
   "id": "bb7141a6",
   "metadata": {},
   "outputs": [
    {
     "data": {
      "text/plain": [
       "int"
      ]
     },
     "execution_count": 4,
     "metadata": {},
     "output_type": "execute_result"
    }
   ],
   "source": [
    "type(b)"
   ]
  },
  {
   "cell_type": "code",
   "execution_count": 5,
   "id": "67cc18bb",
   "metadata": {},
   "outputs": [
    {
     "name": "stdout",
     "output_type": "stream",
     "text": [
      "60\n"
     ]
    },
    {
     "data": {
      "text/plain": [
       "NoneType"
      ]
     },
     "execution_count": 5,
     "metadata": {},
     "output_type": "execute_result"
    }
   ],
   "source": [
    "b=print(a+b+c) # since the value stored in b is none type. We cannot execute more than once.We cannot to addition for none type and integer\n",
    "# b executes none type untill its value gets updated in this case. So that we should not assign print to any variable.\n",
    "type(b)\n"
   ]
  },
  {
   "cell_type": "code",
   "execution_count": 17,
   "id": "6ac68273",
   "metadata": {},
   "outputs": [
    {
     "name": "stdout",
     "output_type": "stream",
     "text": [
      "None\n"
     ]
    }
   ],
   "source": [
    "print(b) #print statement does not store any value in its memory.It only gives the output. We will be getting none\n"
   ]
  },
  {
   "cell_type": "raw",
   "id": "34b4f8d5",
   "metadata": {},
   "source": [
    "Dynamic way--> The value will be assigned during run time."
   ]
  },
  {
   "cell_type": "code",
   "execution_count": 25,
   "id": "e30eb841",
   "metadata": {},
   "outputs": [],
   "source": [
    "#String\n",
    "#variable name=input(\"Enter the string:\")"
   ]
  },
  {
   "cell_type": "code",
   "execution_count": 26,
   "id": "86e745db",
   "metadata": {},
   "outputs": [
    {
     "name": "stdout",
     "output_type": "stream",
     "text": [
      "Welcome to India\n"
     ]
    }
   ],
   "source": [
    "var1=input()"
   ]
  },
  {
   "cell_type": "code",
   "execution_count": 27,
   "id": "f819d382",
   "metadata": {},
   "outputs": [
    {
     "data": {
      "text/plain": [
       "'Welcome to India'"
      ]
     },
     "execution_count": 27,
     "metadata": {},
     "output_type": "execute_result"
    }
   ],
   "source": [
    "var1"
   ]
  },
  {
   "cell_type": "code",
   "execution_count": 28,
   "id": "f38e4211",
   "metadata": {},
   "outputs": [
    {
     "data": {
      "text/plain": [
       "str"
      ]
     },
     "execution_count": 28,
     "metadata": {},
     "output_type": "execute_result"
    }
   ],
   "source": [
    "type(var1)"
   ]
  },
  {
   "cell_type": "code",
   "execution_count": 31,
   "id": "4cb62e9c",
   "metadata": {},
   "outputs": [
    {
     "name": "stdout",
     "output_type": "stream",
     "text": [
      "Enter the string:34\n"
     ]
    }
   ],
   "source": [
    "var2=input(\"Enter the string:\")"
   ]
  },
  {
   "cell_type": "code",
   "execution_count": 32,
   "id": "f8a44804",
   "metadata": {},
   "outputs": [
    {
     "data": {
      "text/plain": [
       "'34'"
      ]
     },
     "execution_count": 32,
     "metadata": {},
     "output_type": "execute_result"
    }
   ],
   "source": [
    "var2"
   ]
  },
  {
   "cell_type": "code",
   "execution_count": 33,
   "id": "f084e3ab",
   "metadata": {},
   "outputs": [
    {
     "data": {
      "text/plain": [
       "str"
      ]
     },
     "execution_count": 33,
     "metadata": {},
     "output_type": "execute_result"
    }
   ],
   "source": [
    "type(var2)"
   ]
  },
  {
   "cell_type": "code",
   "execution_count": 34,
   "id": "aecd495a",
   "metadata": {},
   "outputs": [],
   "source": [
    "#Integer\n",
    "#variable name=int(input(\"enter the integer:\"))"
   ]
  },
  {
   "cell_type": "code",
   "execution_count": 35,
   "id": "f5e59549",
   "metadata": {},
   "outputs": [
    {
     "name": "stdout",
     "output_type": "stream",
     "text": [
      "5\n",
      "ENTER THE x2:6\n",
      "11\n"
     ]
    }
   ],
   "source": [
    "x1=int(input())\n",
    "x2=int(input(\"ENTER THE x2:\"))\n",
    "x3=x1+x2\n",
    "print(x3)"
   ]
  },
  {
   "cell_type": "code",
   "execution_count": 37,
   "id": "bf5e786d",
   "metadata": {},
   "outputs": [
    {
     "name": "stdout",
     "output_type": "stream",
     "text": [
      "10\n",
      "60\n"
     ]
    }
   ],
   "source": [
    "a=50\n",
    "b=int(input())# we can use both static and dynamic way together.If we didn't use int keyword it will take the value as string.\n",
    "print(a+b)"
   ]
  },
  {
   "cell_type": "code",
   "execution_count": 38,
   "id": "4dd8131c",
   "metadata": {},
   "outputs": [],
   "source": [
    "#float\n",
    "#variable name=float(input()) for float you can enter integer values it will convert it to float.But for integer we cannot enter float value"
   ]
  },
  {
   "cell_type": "code",
   "execution_count": 39,
   "id": "651636ee",
   "metadata": {},
   "outputs": [
    {
     "name": "stdout",
     "output_type": "stream",
     "text": [
      "Enter the value:5.6\n",
      "31.359999999999996\n"
     ]
    }
   ],
   "source": [
    "s1=float(input(\"Enter the value:\"))\n",
    "s2=s1*s1\n",
    "print(s2)"
   ]
  },
  {
   "cell_type": "code",
   "execution_count": 40,
   "id": "7ae066ad",
   "metadata": {},
   "outputs": [
    {
     "name": "stdout",
     "output_type": "stream",
     "text": [
      "12\n",
      "13.7\n",
      "-1.6999999999999993\n"
     ]
    }
   ],
   "source": [
    "d1=float(input())\n",
    "d2=float(input())\n",
    "d3=d1-d2\n",
    "print(d3)"
   ]
  },
  {
   "cell_type": "code",
   "execution_count": 45,
   "id": "accc391a",
   "metadata": {},
   "outputs": [
    {
     "data": {
      "text/plain": [
       "-1.7"
      ]
     },
     "execution_count": 45,
     "metadata": {},
     "output_type": "execute_result"
    }
   ],
   "source": [
    "round(d3,1)#round()--> This function is used to round off the value to the given decimal value."
   ]
  },
  {
   "cell_type": "code",
   "execution_count": 46,
   "id": "fd4565a5",
   "metadata": {},
   "outputs": [
    {
     "data": {
      "text/plain": [
       "2"
      ]
     },
     "execution_count": 46,
     "metadata": {},
     "output_type": "execute_result"
    }
   ],
   "source": [
    "round(d2-d1)"
   ]
  },
  {
   "cell_type": "code",
   "execution_count": 47,
   "id": "7571e9b5",
   "metadata": {},
   "outputs": [
    {
     "data": {
      "text/plain": [
       "1.7"
      ]
     },
     "execution_count": 47,
     "metadata": {},
     "output_type": "execute_result"
    }
   ],
   "source": [
    "round(d2-d1,1)"
   ]
  },
  {
   "cell_type": "code",
   "execution_count": 50,
   "id": "68db1a3f",
   "metadata": {},
   "outputs": [
    {
     "data": {
      "text/plain": [
       "1"
      ]
     },
     "execution_count": 50,
     "metadata": {},
     "output_type": "execute_result"
    }
   ],
   "source": [
    "round(1.244564556)"
   ]
  },
  {
   "cell_type": "code",
   "execution_count": 51,
   "id": "417bf190",
   "metadata": {},
   "outputs": [
    {
     "data": {
      "text/plain": [
       "-1.6999999999999993"
      ]
     },
     "execution_count": 51,
     "metadata": {},
     "output_type": "execute_result"
    }
   ],
   "source": [
    "d3"
   ]
  },
  {
   "cell_type": "code",
   "execution_count": 52,
   "id": "efb8cdb3",
   "metadata": {},
   "outputs": [],
   "source": [
    "#boolean\n",
    "#var_name=bool(input()) it checks wheather the variable is having/storing any value or not.If variable is storing any value it writtens true or if it doesn't store any value it writtens false"
   ]
  },
  {
   "cell_type": "code",
   "execution_count": 5,
   "id": "e080f384",
   "metadata": {},
   "outputs": [
    {
     "name": "stdout",
     "output_type": "stream",
     "text": [
      "123\n"
     ]
    }
   ],
   "source": [
    "f1=bool(input())"
   ]
  },
  {
   "cell_type": "code",
   "execution_count": 6,
   "id": "9d1552db",
   "metadata": {},
   "outputs": [
    {
     "data": {
      "text/plain": [
       "True"
      ]
     },
     "execution_count": 6,
     "metadata": {},
     "output_type": "execute_result"
    }
   ],
   "source": [
    "f1"
   ]
  },
  {
   "cell_type": "code",
   "execution_count": 7,
   "id": "e74b8e8c",
   "metadata": {},
   "outputs": [],
   "source": [
    "del f1"
   ]
  },
  {
   "cell_type": "code",
   "execution_count": 8,
   "id": "055fe3bf",
   "metadata": {},
   "outputs": [
    {
     "name": "stdout",
     "output_type": "stream",
     "text": [
      "\n"
     ]
    }
   ],
   "source": [
    "f1=bool(input())"
   ]
  },
  {
   "cell_type": "code",
   "execution_count": 9,
   "id": "5fbb8a07",
   "metadata": {},
   "outputs": [
    {
     "data": {
      "text/plain": [
       "False"
      ]
     },
     "execution_count": 9,
     "metadata": {},
     "output_type": "execute_result"
    }
   ],
   "source": [
    "f1"
   ]
  },
  {
   "cell_type": "code",
   "execution_count": 10,
   "id": "51e9a50b",
   "metadata": {},
   "outputs": [
    {
     "name": "stdout",
     "output_type": "stream",
     "text": [
      "False\n"
     ]
    }
   ],
   "source": [
    "print(f1)"
   ]
  },
  {
   "cell_type": "markdown",
   "id": "d29acf60",
   "metadata": {},
   "source": [
    "# 3.Slicing and Indexing"
   ]
  },
  {
   "cell_type": "raw",
   "id": "7ea16281",
   "metadata": {},
   "source": [
    "Indexing--> The process of extracting the unique value #Simple Indexing - The value always starts from zero.It is from \n",
    "left-->Right.\n",
    "#Negative Indexing- The value always starts with -1 from the reverse the index values are assigned.It from Right-->left.It always starts from the end of the value.The start range should be higher and end range should be lower.\n",
    "#The space between the words and the letters also get the index value [' ']. \n",
    "#The special characters also get the index values['@','#','$'...]\n",
    "Slicing--> Extracting the range of values"
   ]
  },
  {
   "cell_type": "code",
   "execution_count": 2,
   "id": "04c4c386",
   "metadata": {},
   "outputs": [],
   "source": [
    "s1=\"querty@ python\" #each letter in the string contains different index values."
   ]
  },
  {
   "cell_type": "code",
   "execution_count": 8,
   "id": "a24a1e0a",
   "metadata": {},
   "outputs": [
    {
     "data": {
      "text/plain": [
       "14"
      ]
     },
     "execution_count": 8,
     "metadata": {},
     "output_type": "execute_result"
    }
   ],
   "source": [
    "len(s1)"
   ]
  },
  {
   "cell_type": "raw",
   "id": "c9e41dec",
   "metadata": {},
   "source": [
    "q      u      e     r     t     y          p     y     t     h     o    n\n",
    "\n",
    "0      1      2     3     4     5    6     7     8     9    10    11    12 --> Simple Indexing\n",
    "\n",
    "-13   -12    -11   -10   -9    -8   -7    -6    -5    -4    -3    -2    -1  --> Negative Indexing (always the index value will \n",
    "\n",
    "starting from the end of the value.)\n"
   ]
  },
  {
   "cell_type": "code",
   "execution_count": null,
   "id": "eafb9556",
   "metadata": {},
   "outputs": [],
   "source": [
    "#indexing (used to extract only one particular value)\n",
    " #variable_name[index_value]"
   ]
  },
  {
   "cell_type": "code",
   "execution_count": 9,
   "id": "eb856e36",
   "metadata": {},
   "outputs": [
    {
     "data": {
      "text/plain": [
       "'@'"
      ]
     },
     "execution_count": 9,
     "metadata": {},
     "output_type": "execute_result"
    }
   ],
   "source": [
    "s1[6]"
   ]
  },
  {
   "cell_type": "code",
   "execution_count": 10,
   "id": "03a1afdc",
   "metadata": {},
   "outputs": [
    {
     "data": {
      "text/plain": [
       "' '"
      ]
     },
     "execution_count": 10,
     "metadata": {},
     "output_type": "execute_result"
    }
   ],
   "source": [
    "s1[7]"
   ]
  },
  {
   "cell_type": "code",
   "execution_count": 11,
   "id": "3373d30c",
   "metadata": {},
   "outputs": [
    {
     "data": {
      "text/plain": [
       "'y'"
      ]
     },
     "execution_count": 11,
     "metadata": {},
     "output_type": "execute_result"
    }
   ],
   "source": [
    "s1[5]"
   ]
  },
  {
   "cell_type": "code",
   "execution_count": 3,
   "id": "ab8263aa",
   "metadata": {},
   "outputs": [
    {
     "data": {
      "text/plain": [
       "'o'"
      ]
     },
     "execution_count": 3,
     "metadata": {},
     "output_type": "execute_result"
    }
   ],
   "source": [
    "s1[-2]"
   ]
  },
  {
   "cell_type": "raw",
   "id": "5ecd3ef6",
   "metadata": {},
   "source": [
    "#slicimg syntax\n",
    "#var_name[Start_range:End_range:step]\n",
    "# The start range,End range and step are not mandatory. for inbuild function we use common braces and for operations we use square braces.\n",
    "#End range gives value/prints upto (end_range-1)or (n-1).n->number of elements / letters in the given value.\n",
    "#Start_range will be considered by default.It starts from left side\n",
    "#end range will not be considered.\n",
    "#Step value --> It jumps to the next values according to the step value provided and print them.\n",
    "#It also considers the space between the words."
   ]
  },
  {
   "cell_type": "code",
   "execution_count": 5,
   "id": "cf7d6eb0",
   "metadata": {},
   "outputs": [
    {
     "data": {
      "text/plain": [
       "'querty'"
      ]
     },
     "execution_count": 5,
     "metadata": {},
     "output_type": "execute_result"
    }
   ],
   "source": [
    "s1[:6]"
   ]
  },
  {
   "cell_type": "code",
   "execution_count": 6,
   "id": "9322bd30",
   "metadata": {},
   "outputs": [
    {
     "data": {
      "text/plain": [
       "'querty'"
      ]
     },
     "execution_count": 6,
     "metadata": {},
     "output_type": "execute_result"
    }
   ],
   "source": [
    "s1[0:6]"
   ]
  },
  {
   "cell_type": "code",
   "execution_count": 7,
   "id": "fd18d13f",
   "metadata": {},
   "outputs": [
    {
     "data": {
      "text/plain": [
       "'querty@ python'"
      ]
     },
     "execution_count": 7,
     "metadata": {},
     "output_type": "execute_result"
    }
   ],
   "source": [
    "s1[0:]"
   ]
  },
  {
   "cell_type": "code",
   "execution_count": 8,
   "id": "cd371511",
   "metadata": {},
   "outputs": [
    {
     "data": {
      "text/plain": [
       "'qet@pto'"
      ]
     },
     "execution_count": 8,
     "metadata": {},
     "output_type": "execute_result"
    }
   ],
   "source": [
    "s1[::2]"
   ]
  },
  {
   "cell_type": "code",
   "execution_count": 10,
   "id": "4a75c77f",
   "metadata": {},
   "outputs": [
    {
     "data": {
      "text/plain": [
       "'qet@pto'"
      ]
     },
     "execution_count": 10,
     "metadata": {},
     "output_type": "execute_result"
    }
   ],
   "source": [
    "s1[0:14:2]"
   ]
  },
  {
   "cell_type": "code",
   "execution_count": 19,
   "id": "481fef4b",
   "metadata": {},
   "outputs": [
    {
     "data": {
      "text/plain": [
       "'querty@ python'"
      ]
     },
     "execution_count": 19,
     "metadata": {},
     "output_type": "execute_result"
    }
   ],
   "source": [
    "s1[-15:]"
   ]
  },
  {
   "cell_type": "code",
   "execution_count": 24,
   "id": "39375aa2",
   "metadata": {},
   "outputs": [
    {
     "data": {
      "text/plain": [
       "'qet@pto'"
      ]
     },
     "execution_count": 24,
     "metadata": {},
     "output_type": "execute_result"
    }
   ],
   "source": [
    "s1[-15::2]"
   ]
  },
  {
   "cell_type": "code",
   "execution_count": 26,
   "id": "789cecc8",
   "metadata": {},
   "outputs": [
    {
     "data": {
      "text/plain": [
       "'querty@ pytho'"
      ]
     },
     "execution_count": 26,
     "metadata": {},
     "output_type": "execute_result"
    }
   ],
   "source": [
    "s1[0:13]"
   ]
  },
  {
   "cell_type": "code",
   "execution_count": 27,
   "id": "9064151c",
   "metadata": {},
   "outputs": [
    {
     "data": {
      "text/plain": [
       "'querty@ python'"
      ]
     },
     "execution_count": 27,
     "metadata": {},
     "output_type": "execute_result"
    }
   ],
   "source": [
    "s1[0:14]"
   ]
  },
  {
   "cell_type": "code",
   "execution_count": 32,
   "id": "faec7213",
   "metadata": {},
   "outputs": [
    {
     "data": {
      "text/plain": [
       "'p @'"
      ]
     },
     "execution_count": 32,
     "metadata": {},
     "output_type": "execute_result"
    }
   ],
   "source": [
    "s1[-6:-9:-1]#REVERSE SLICING start range should be lower and end range should be higher\n"
   ]
  },
  {
   "cell_type": "markdown",
   "id": "93afa26a",
   "metadata": {},
   "source": [
    "# 4.Datatypes"
   ]
  },
  {
   "cell_type": "raw",
   "id": "f0674943",
   "metadata": {},
   "source": [
    "collective datatypes:\n",
    "    In python we mostly use collective datatypes. There are two types of collective datatypes namely\n",
    "1.Mutable datatypes---> value stored  can be changed or altered after the declaration.There are totally 3 types namely \n",
    "  a.List\n",
    "  b.Dictionary\n",
    "  c.sets\n",
    "2.Immutable datatypes--> value stored cannot be changed or altered after the declaration.There are 2 types of immutable datatype namely.We can assign the value but we cannot change the present value.\n",
    "   a.Strings\n",
    "   b.Tuples"
   ]
  },
  {
   "cell_type": "code",
   "execution_count": null,
   "id": "84ec631d",
   "metadata": {},
   "outputs": [],
   "source": [
    "# strings : mentioned in single or double quotes."
   ]
  },
  {
   "cell_type": "code",
   "execution_count": 34,
   "id": "465e4a5c",
   "metadata": {},
   "outputs": [],
   "source": [
    "str1=\"Welcome to India\""
   ]
  },
  {
   "cell_type": "code",
   "execution_count": 35,
   "id": "3e2ff879",
   "metadata": {},
   "outputs": [
    {
     "data": {
      "text/plain": [
       "'Welcome to India'"
      ]
     },
     "execution_count": 35,
     "metadata": {},
     "output_type": "execute_result"
    }
   ],
   "source": [
    "str1[0:]"
   ]
  },
  {
   "cell_type": "code",
   "execution_count": 36,
   "id": "f64a506e",
   "metadata": {},
   "outputs": [
    {
     "data": {
      "text/plain": [
       "'o'"
      ]
     },
     "execution_count": 36,
     "metadata": {},
     "output_type": "execute_result"
    }
   ],
   "source": [
    "str1[4]"
   ]
  },
  {
   "cell_type": "code",
   "execution_count": 37,
   "id": "e18444be",
   "metadata": {},
   "outputs": [
    {
     "ename": "TypeError",
     "evalue": "'str' object does not support item assignment",
     "output_type": "error",
     "traceback": [
      "\u001b[1;31m---------------------------------------------------------------------------\u001b[0m",
      "\u001b[1;31mTypeError\u001b[0m                                 Traceback (most recent call last)",
      "\u001b[1;32m~\\AppData\\Local\\Temp/ipykernel_14484/697471944.py\u001b[0m in \u001b[0;36m<module>\u001b[1;34m\u001b[0m\n\u001b[1;32m----> 1\u001b[1;33m \u001b[0mstr1\u001b[0m\u001b[1;33m[\u001b[0m\u001b[1;36m5\u001b[0m\u001b[1;33m]\u001b[0m\u001b[1;33m=\u001b[0m\u001b[1;34m'm'\u001b[0m\u001b[1;33m\u001b[0m\u001b[1;33m\u001b[0m\u001b[0m\n\u001b[0m",
      "\u001b[1;31mTypeError\u001b[0m: 'str' object does not support item assignment"
     ]
    }
   ],
   "source": [
    "str1[5]='m'"
   ]
  },
  {
   "cell_type": "raw",
   "id": "bea229e5",
   "metadata": {},
   "source": [
    "tuples-->It is a set of heterogenous element(mixed type of data ).It can have a (string,numbers,special characters,Interger,flot,...).\n",
    "tuple is defined by ().whatever written inside the braces is considered to be a tuple.\n",
    "Whenever we are defining a heterogenous data in single line it is considered as tuple.\n",
    "we can write a tuple with or without braces."
   ]
  },
  {
   "cell_type": "code",
   "execution_count": 39,
   "id": "be631815",
   "metadata": {},
   "outputs": [],
   "source": [
    "t1=1,2,3,'Dhanush','Legend',8.9,9.5"
   ]
  },
  {
   "cell_type": "code",
   "execution_count": 40,
   "id": "57316834",
   "metadata": {},
   "outputs": [
    {
     "data": {
      "text/plain": [
       "(1, 2, 3, 'Dhanush', 'Legend', 8.9, 9.5)"
      ]
     },
     "execution_count": 40,
     "metadata": {},
     "output_type": "execute_result"
    }
   ],
   "source": [
    "t1"
   ]
  },
  {
   "cell_type": "code",
   "execution_count": 41,
   "id": "4fa7bde7",
   "metadata": {},
   "outputs": [
    {
     "data": {
      "text/plain": [
       "tuple"
      ]
     },
     "execution_count": 41,
     "metadata": {},
     "output_type": "execute_result"
    }
   ],
   "source": [
    "type(t1)"
   ]
  },
  {
   "cell_type": "code",
   "execution_count": 42,
   "id": "f8c5f77f",
   "metadata": {},
   "outputs": [],
   "source": [
    "t2=(1,4.6,55.98,'Aravindh',True,)"
   ]
  },
  {
   "cell_type": "code",
   "execution_count": 43,
   "id": "e24cb9cf",
   "metadata": {},
   "outputs": [
    {
     "data": {
      "text/plain": [
       "(1, 4.6, 55.98, 'Aravindh')"
      ]
     },
     "execution_count": 43,
     "metadata": {},
     "output_type": "execute_result"
    }
   ],
   "source": [
    "t2"
   ]
  },
  {
   "cell_type": "code",
   "execution_count": 44,
   "id": "5545c451",
   "metadata": {},
   "outputs": [
    {
     "data": {
      "text/plain": [
       "tuple"
      ]
     },
     "execution_count": 44,
     "metadata": {},
     "output_type": "execute_result"
    }
   ],
   "source": [
    "type(t2)"
   ]
  },
  {
   "cell_type": "code",
   "execution_count": null,
   "id": "f96aa63f",
   "metadata": {},
   "outputs": [],
   "source": [
    "#Tuples are used to store confidential data eg:Bamk details,phone number,address, etc;"
   ]
  },
  {
   "cell_type": "code",
   "execution_count": 45,
   "id": "2fcba1ac",
   "metadata": {},
   "outputs": [
    {
     "data": {
      "text/plain": [
       "8.9"
      ]
     },
     "execution_count": 45,
     "metadata": {},
     "output_type": "execute_result"
    }
   ],
   "source": [
    "t1[5]"
   ]
  },
  {
   "cell_type": "code",
   "execution_count": 46,
   "id": "8b6d0ab0",
   "metadata": {},
   "outputs": [
    {
     "data": {
      "text/plain": [
       "(1, 2, 3, 'Dhanush', 'Legend', 8.9, 9.5)"
      ]
     },
     "execution_count": 46,
     "metadata": {},
     "output_type": "execute_result"
    }
   ],
   "source": [
    "t1[:7]"
   ]
  },
  {
   "cell_type": "code",
   "execution_count": 47,
   "id": "ee3760e8",
   "metadata": {},
   "outputs": [
    {
     "ename": "TypeError",
     "evalue": "'tuple' object does not support item assignment",
     "output_type": "error",
     "traceback": [
      "\u001b[1;31m---------------------------------------------------------------------------\u001b[0m",
      "\u001b[1;31mTypeError\u001b[0m                                 Traceback (most recent call last)",
      "\u001b[1;32m~\\AppData\\Local\\Temp/ipykernel_14484/1541938317.py\u001b[0m in \u001b[0;36m<module>\u001b[1;34m\u001b[0m\n\u001b[1;32m----> 1\u001b[1;33m \u001b[0mt1\u001b[0m\u001b[1;33m[\u001b[0m\u001b[1;36m3\u001b[0m\u001b[1;33m]\u001b[0m\u001b[1;33m=\u001b[0m\u001b[1;34m\"DHANUSH\"\u001b[0m\u001b[1;33m\u001b[0m\u001b[1;33m\u001b[0m\u001b[0m\n\u001b[0m",
      "\u001b[1;31mTypeError\u001b[0m: 'tuple' object does not support item assignment"
     ]
    }
   ],
   "source": [
    "t1[3]=\"DHANUSH\"#we cannot change the value inside tuple."
   ]
  },
  {
   "cell_type": "code",
   "execution_count": 52,
   "id": "a65781e5",
   "metadata": {},
   "outputs": [
    {
     "data": {
      "text/plain": [
       "(1, 2, 3, 'Dhanush', 'Legend', 8.9, 9.5)"
      ]
     },
     "execution_count": 52,
     "metadata": {},
     "output_type": "execute_result"
    }
   ],
   "source": [
    "t1[-7:]"
   ]
  },
  {
   "cell_type": "code",
   "execution_count": 51,
   "id": "17b701ba",
   "metadata": {},
   "outputs": [
    {
     "data": {
      "text/plain": [
       "(2, 3, 'Dhanush')"
      ]
     },
     "execution_count": 51,
     "metadata": {},
     "output_type": "execute_result"
    }
   ],
   "source": [
    "t1[-6:-3:1]"
   ]
  },
  {
   "cell_type": "code",
   "execution_count": 54,
   "id": "0e09b6d4",
   "metadata": {},
   "outputs": [
    {
     "data": {
      "text/plain": [
       "()"
      ]
     },
     "execution_count": 54,
     "metadata": {},
     "output_type": "execute_result"
    }
   ],
   "source": [
    "t1[-3:-6]"
   ]
  },
  {
   "cell_type": "code",
   "execution_count": 55,
   "id": "b68121b8",
   "metadata": {},
   "outputs": [],
   "source": [
    "t3=(1,2,5,7,4,6,9,3,8)"
   ]
  },
  {
   "cell_type": "code",
   "execution_count": 57,
   "id": "f6198b3e",
   "metadata": {},
   "outputs": [],
   "source": [
    "t4=sorted(t3) #sorting performed only on homogeneous data"
   ]
  },
  {
   "cell_type": "code",
   "execution_count": 63,
   "id": "3e135073",
   "metadata": {},
   "outputs": [
    {
     "name": "stdout",
     "output_type": "stream",
     "text": [
      "[1, 2, 3, 4, 5, 6, 7, 8, 9]\n"
     ]
    },
    {
     "data": {
      "text/plain": [
       "list"
      ]
     },
     "execution_count": 63,
     "metadata": {},
     "output_type": "execute_result"
    }
   ],
   "source": [
    "print(t4)\n",
    "type(t4)"
   ]
  },
  {
   "cell_type": "code",
   "execution_count": 59,
   "id": "3423ceca",
   "metadata": {},
   "outputs": [],
   "source": [
    "t5=tuple(t4)"
   ]
  },
  {
   "cell_type": "code",
   "execution_count": 60,
   "id": "6c926b55",
   "metadata": {},
   "outputs": [
    {
     "data": {
      "text/plain": [
       "tuple"
      ]
     },
     "execution_count": 60,
     "metadata": {},
     "output_type": "execute_result"
    }
   ],
   "source": [
    "type(t5)"
   ]
  },
  {
   "cell_type": "code",
   "execution_count": 61,
   "id": "c7d2741b",
   "metadata": {},
   "outputs": [
    {
     "data": {
      "text/plain": [
       "(1, 2, 3, 4, 5, 6, 7, 8, 9)"
      ]
     },
     "execution_count": 61,
     "metadata": {},
     "output_type": "execute_result"
    }
   ],
   "source": [
    "t5"
   ]
  },
  {
   "cell_type": "raw",
   "id": "272e18e6",
   "metadata": {},
   "source": [
    "List--> set of heterogenous data.It is defined by square braces[]."
   ]
  },
  {
   "cell_type": "code",
   "execution_count": 64,
   "id": "01a3dfd7",
   "metadata": {},
   "outputs": [],
   "source": [
    "l1=[1,2,3,'Dhanush','Legend',8.9,9.5]"
   ]
  },
  {
   "cell_type": "code",
   "execution_count": 65,
   "id": "d04cef0c",
   "metadata": {},
   "outputs": [
    {
     "data": {
      "text/plain": [
       "list"
      ]
     },
     "execution_count": 65,
     "metadata": {},
     "output_type": "execute_result"
    }
   ],
   "source": [
    "type(l1)"
   ]
  },
  {
   "cell_type": "code",
   "execution_count": 66,
   "id": "6a92bf60",
   "metadata": {},
   "outputs": [
    {
     "data": {
      "text/plain": [
       "[1, 2, 3, 'Dhanush', 'Legend', 8.9, 9.5]"
      ]
     },
     "execution_count": 66,
     "metadata": {},
     "output_type": "execute_result"
    }
   ],
   "source": [
    "l1"
   ]
  },
  {
   "cell_type": "code",
   "execution_count": 67,
   "id": "d7c753fb",
   "metadata": {},
   "outputs": [
    {
     "data": {
      "text/plain": [
       "[1, 2, 3, 'Dhanush', 'Legend', 8.9, 9.5]"
      ]
     },
     "execution_count": 67,
     "metadata": {},
     "output_type": "execute_result"
    }
   ],
   "source": [
    "l1[:7]"
   ]
  },
  {
   "cell_type": "code",
   "execution_count": 68,
   "id": "1125907a",
   "metadata": {},
   "outputs": [
    {
     "data": {
      "text/plain": [
       "[3, 'Dhanush', 'Legend', 8.9, 9.5]"
      ]
     },
     "execution_count": 68,
     "metadata": {},
     "output_type": "execute_result"
    }
   ],
   "source": [
    "l1[2:7]"
   ]
  },
  {
   "cell_type": "code",
   "execution_count": 69,
   "id": "f9946933",
   "metadata": {},
   "outputs": [],
   "source": [
    "l1[3]=\"DHANUSH\""
   ]
  },
  {
   "cell_type": "code",
   "execution_count": 70,
   "id": "9ae376d0",
   "metadata": {},
   "outputs": [
    {
     "data": {
      "text/plain": [
       "[1, 2, 3, 'DHANUSH', 'Legend', 8.9, 9.5]"
      ]
     },
     "execution_count": 70,
     "metadata": {},
     "output_type": "execute_result"
    }
   ],
   "source": [
    "l1"
   ]
  },
  {
   "cell_type": "code",
   "execution_count": 96,
   "id": "66cdb04c",
   "metadata": {},
   "outputs": [],
   "source": [
    "#append--> It is used to add element to the end of the list.\n",
    "l1.append('python basics')"
   ]
  },
  {
   "cell_type": "code",
   "execution_count": 98,
   "id": "353fb367",
   "metadata": {},
   "outputs": [],
   "source": [
    "l1.append('python basics')"
   ]
  },
  {
   "cell_type": "code",
   "execution_count": 99,
   "id": "d514891a",
   "metadata": {},
   "outputs": [
    {
     "data": {
      "text/plain": [
       "[1,\n",
       " 2,\n",
       " 'DHANUSH',\n",
       " 'ARAVINDHAN',\n",
       " 'Legend',\n",
       " 8.9,\n",
       " 9.5,\n",
       " 'python basics',\n",
       " 'python basics']"
      ]
     },
     "execution_count": 99,
     "metadata": {},
     "output_type": "execute_result"
    }
   ],
   "source": [
    "l1"
   ]
  },
  {
   "cell_type": "code",
   "execution_count": 73,
   "id": "e1354d54",
   "metadata": {},
   "outputs": [],
   "source": [
    "l1.insert(4,'ARAVINDHAN')"
   ]
  },
  {
   "cell_type": "code",
   "execution_count": 74,
   "id": "b8def64e",
   "metadata": {},
   "outputs": [
    {
     "data": {
      "text/plain": [
       "[1, 2, 3, 'DHANUSH', 'ARAVINDHAN', 'Legend', 8.9, 9.5, 'python basics']"
      ]
     },
     "execution_count": 74,
     "metadata": {},
     "output_type": "execute_result"
    }
   ],
   "source": [
    "l1"
   ]
  },
  {
   "cell_type": "code",
   "execution_count": 75,
   "id": "07c9731a",
   "metadata": {},
   "outputs": [
    {
     "data": {
      "text/plain": [
       "3"
      ]
     },
     "execution_count": 75,
     "metadata": {},
     "output_type": "execute_result"
    }
   ],
   "source": [
    "l1.pop(2)#delete the value directly by using index value"
   ]
  },
  {
   "cell_type": "code",
   "execution_count": 76,
   "id": "07e5c0d8",
   "metadata": {},
   "outputs": [
    {
     "data": {
      "text/plain": [
       "[1, 2, 'DHANUSH', 'ARAVINDHAN', 'Legend', 8.9, 9.5, 'python basics']"
      ]
     },
     "execution_count": 76,
     "metadata": {},
     "output_type": "execute_result"
    }
   ],
   "source": [
    "l1"
   ]
  },
  {
   "cell_type": "code",
   "execution_count": 100,
   "id": "b77af0ff",
   "metadata": {},
   "outputs": [],
   "source": [
    "l1.remove('python basics')#delete the value directly by giving the value."
   ]
  },
  {
   "cell_type": "code",
   "execution_count": 101,
   "id": "551570ea",
   "metadata": {},
   "outputs": [
    {
     "data": {
      "text/plain": [
       "[1, 2, 'DHANUSH', 'ARAVINDHAN', 'Legend', 8.9, 9.5, 'python basics']"
      ]
     },
     "execution_count": 101,
     "metadata": {},
     "output_type": "execute_result"
    }
   ],
   "source": [
    "l1"
   ]
  },
  {
   "cell_type": "code",
   "execution_count": null,
   "id": "1b88ea1a",
   "metadata": {},
   "outputs": [],
   "source": [
    "#Double indexing and double slicing is possible in list"
   ]
  },
  {
   "cell_type": "code",
   "execution_count": 79,
   "id": "aa83a78e",
   "metadata": {},
   "outputs": [
    {
     "data": {
      "text/plain": [
       "'gen'"
      ]
     },
     "execution_count": 79,
     "metadata": {},
     "output_type": "execute_result"
    }
   ],
   "source": [
    "l1[4][2:5]"
   ]
  },
  {
   "cell_type": "code",
   "execution_count": 84,
   "id": "5d863956",
   "metadata": {},
   "outputs": [
    {
     "data": {
      "text/plain": [
       "(8.9, 9.5)"
      ]
     },
     "execution_count": 84,
     "metadata": {},
     "output_type": "execute_result"
    }
   ],
   "source": [
    "l1[5],l1[6]"
   ]
  },
  {
   "cell_type": "code",
   "execution_count": 82,
   "id": "f87f1ae1",
   "metadata": {},
   "outputs": [
    {
     "ename": "TypeError",
     "evalue": "list indices must be integers or slices, not tuple",
     "output_type": "error",
     "traceback": [
      "\u001b[1;31m---------------------------------------------------------------------------\u001b[0m",
      "\u001b[1;31mTypeError\u001b[0m                                 Traceback (most recent call last)",
      "\u001b[1;32m~\\AppData\\Local\\Temp/ipykernel_14484/4046378013.py\u001b[0m in \u001b[0;36m<module>\u001b[1;34m\u001b[0m\n\u001b[1;32m----> 1\u001b[1;33m \u001b[0ml1\u001b[0m\u001b[1;33m[\u001b[0m\u001b[1;36m4\u001b[0m\u001b[1;33m,\u001b[0m\u001b[1;33m[\u001b[0m\u001b[1;36m3\u001b[0m\u001b[1;33m]\u001b[0m\u001b[1;33m]\u001b[0m\u001b[1;33m\u001b[0m\u001b[1;33m\u001b[0m\u001b[0m\n\u001b[0m",
      "\u001b[1;31mTypeError\u001b[0m: list indices must be integers or slices, not tuple"
     ]
    }
   ],
   "source": [
    "l1[4,[3]]"
   ]
  },
  {
   "cell_type": "code",
   "execution_count": 94,
   "id": "f12461ef",
   "metadata": {},
   "outputs": [],
   "source": [
    "a=[1,[2],3]\n",
    "b=a[1]\n",
    "b.append(4)\n",
    "# Whenever we are making sequencial changes to the data we can use list."
   ]
  },
  {
   "cell_type": "code",
   "execution_count": 95,
   "id": "5b80e7e2",
   "metadata": {},
   "outputs": [
    {
     "data": {
      "text/plain": [
       "[1, [2, 4], 3]"
      ]
     },
     "execution_count": 95,
     "metadata": {},
     "output_type": "execute_result"
    }
   ],
   "source": [
    "a"
   ]
  },
  {
   "cell_type": "code",
   "execution_count": 102,
   "id": "3e0fa649",
   "metadata": {},
   "outputs": [
    {
     "data": {
      "text/plain": [
       "'python basics'"
      ]
     },
     "execution_count": 102,
     "metadata": {},
     "output_type": "execute_result"
    }
   ],
   "source": [
    "l1.pop(-1)"
   ]
  },
  {
   "cell_type": "code",
   "execution_count": 103,
   "id": "4c686ca5",
   "metadata": {},
   "outputs": [
    {
     "data": {
      "text/plain": [
       "[1, 2, 'DHANUSH', 'ARAVINDHAN', 'Legend', 8.9, 9.5]"
      ]
     },
     "execution_count": 103,
     "metadata": {},
     "output_type": "execute_result"
    }
   ],
   "source": [
    "l1"
   ]
  },
  {
   "cell_type": "raw",
   "id": "ddef3fad",
   "metadata": {},
   "source": [
    "Dictionary {key:value}\n",
    "example: sort: arraging the elements\n",
    "We cannot do indexing or slicing.Since it has its own indexing and slicing behavior\n",
    "We cannot extract the keys. we can only extract the values using their keys"
   ]
  },
  {
   "cell_type": "code",
   "execution_count": 104,
   "id": "0a38505f",
   "metadata": {},
   "outputs": [],
   "source": [
    "d1={1:\"Apple\",2:\"banana\",3:\"Orange\",4:\"grapes\"}\n",
    "d2={\"Apple\":100,\"banana\":20,\"orange\":80,\"grapes\":40}"
   ]
  },
  {
   "cell_type": "code",
   "execution_count": 107,
   "id": "0bc941bd",
   "metadata": {},
   "outputs": [
    {
     "data": {
      "text/plain": [
       "dict"
      ]
     },
     "execution_count": 107,
     "metadata": {},
     "output_type": "execute_result"
    }
   ],
   "source": [
    "type(d1)"
   ]
  },
  {
   "cell_type": "code",
   "execution_count": 108,
   "id": "c2826ef1",
   "metadata": {},
   "outputs": [
    {
     "ename": "KeyError",
     "evalue": "'Apple'",
     "output_type": "error",
     "traceback": [
      "\u001b[1;31m---------------------------------------------------------------------------\u001b[0m",
      "\u001b[1;31mKeyError\u001b[0m                                  Traceback (most recent call last)",
      "\u001b[1;32m~\\AppData\\Local\\Temp/ipykernel_14484/1863290257.py\u001b[0m in \u001b[0;36m<module>\u001b[1;34m\u001b[0m\n\u001b[1;32m----> 1\u001b[1;33m \u001b[0md1\u001b[0m\u001b[1;33m[\u001b[0m\u001b[1;34m\"Apple\"\u001b[0m\u001b[1;33m]\u001b[0m\u001b[1;33m\u001b[0m\u001b[1;33m\u001b[0m\u001b[0m\n\u001b[0m",
      "\u001b[1;31mKeyError\u001b[0m: 'Apple'"
     ]
    }
   ],
   "source": [
    "d1[\"Apple\"]"
   ]
  },
  {
   "cell_type": "code",
   "execution_count": 109,
   "id": "41009a78",
   "metadata": {},
   "outputs": [
    {
     "data": {
      "text/plain": [
       "'Apple'"
      ]
     },
     "execution_count": 109,
     "metadata": {},
     "output_type": "execute_result"
    }
   ],
   "source": [
    "d1[1]"
   ]
  },
  {
   "cell_type": "code",
   "execution_count": 110,
   "id": "8dd8a1c0",
   "metadata": {},
   "outputs": [
    {
     "data": {
      "text/plain": [
       "dict_keys([1, 2, 3, 4])"
      ]
     },
     "execution_count": 110,
     "metadata": {},
     "output_type": "execute_result"
    }
   ],
   "source": [
    "d1.keys()"
   ]
  },
  {
   "cell_type": "code",
   "execution_count": 112,
   "id": "8b31babd",
   "metadata": {},
   "outputs": [
    {
     "data": {
      "text/plain": [
       "dict_values(['Apple', 'banana', 'Orange', 'grapes'])"
      ]
     },
     "execution_count": 112,
     "metadata": {},
     "output_type": "execute_result"
    }
   ],
   "source": [
    "d1.values()"
   ]
  },
  {
   "cell_type": "code",
   "execution_count": 113,
   "id": "bb828e8c",
   "metadata": {},
   "outputs": [],
   "source": [
    "d1[5]=\"Water melon\""
   ]
  },
  {
   "cell_type": "code",
   "execution_count": 114,
   "id": "3919e82b",
   "metadata": {},
   "outputs": [
    {
     "data": {
      "text/plain": [
       "{1: 'Apple', 2: 'banana', 3: 'Orange', 4: 'grapes', 5: 'Water melon'}"
      ]
     },
     "execution_count": 114,
     "metadata": {},
     "output_type": "execute_result"
    }
   ],
   "source": [
    "d1"
   ]
  },
  {
   "cell_type": "code",
   "execution_count": 115,
   "id": "bba1efba",
   "metadata": {},
   "outputs": [
    {
     "data": {
      "text/plain": [
       "5"
      ]
     },
     "execution_count": 115,
     "metadata": {},
     "output_type": "execute_result"
    }
   ],
   "source": [
    "len(d1)"
   ]
  },
  {
   "cell_type": "code",
   "execution_count": 116,
   "id": "9c391924",
   "metadata": {},
   "outputs": [],
   "source": [
    "# Used in grocery stores mainly to store the price of the items\n",
    "# keys are unique values in the data and cannot be changed"
   ]
  },
  {
   "cell_type": "code",
   "execution_count": 117,
   "id": "b4bd3111",
   "metadata": {},
   "outputs": [],
   "source": [
    "d2[\"Apple\"]=120"
   ]
  },
  {
   "cell_type": "code",
   "execution_count": 118,
   "id": "c532bbd0",
   "metadata": {},
   "outputs": [
    {
     "data": {
      "text/plain": [
       "{'Apple': 120, 'banana': 20, 'orange': 80, 'grapes': 40}"
      ]
     },
     "execution_count": 118,
     "metadata": {},
     "output_type": "execute_result"
    }
   ],
   "source": [
    "d2"
   ]
  },
  {
   "cell_type": "code",
   "execution_count": 119,
   "id": "af815168",
   "metadata": {},
   "outputs": [],
   "source": [
    "del d2[\"grapes\"] #It is used to delete the key:value pair from dictionary"
   ]
  },
  {
   "cell_type": "code",
   "execution_count": 121,
   "id": "ef95a1f2",
   "metadata": {},
   "outputs": [
    {
     "data": {
      "text/plain": [
       "{'Apple': 120, 'banana': 20, 'orange': 80}"
      ]
     },
     "execution_count": 121,
     "metadata": {},
     "output_type": "execute_result"
    }
   ],
   "source": [
    "d2"
   ]
  },
  {
   "cell_type": "code",
   "execution_count": 122,
   "id": "b38382c2",
   "metadata": {},
   "outputs": [],
   "source": [
    "d1[1]=\"apple\""
   ]
  },
  {
   "cell_type": "code",
   "execution_count": 123,
   "id": "15ff89f1",
   "metadata": {},
   "outputs": [
    {
     "data": {
      "text/plain": [
       "{1: 'apple', 2: 'banana', 3: 'Orange', 4: 'grapes', 5: 'Water melon'}"
      ]
     },
     "execution_count": 123,
     "metadata": {},
     "output_type": "execute_result"
    }
   ],
   "source": [
    "d1"
   ]
  },
  {
   "cell_type": "code",
   "execution_count": 124,
   "id": "defbabac",
   "metadata": {},
   "outputs": [
    {
     "ename": "AttributeError",
     "evalue": "'dict' object has no attribute 'remove'",
     "output_type": "error",
     "traceback": [
      "\u001b[1;31m---------------------------------------------------------------------------\u001b[0m",
      "\u001b[1;31mAttributeError\u001b[0m                            Traceback (most recent call last)",
      "\u001b[1;32m~\\AppData\\Local\\Temp/ipykernel_14484/608853521.py\u001b[0m in \u001b[0;36m<module>\u001b[1;34m\u001b[0m\n\u001b[1;32m----> 1\u001b[1;33m \u001b[0md1\u001b[0m\u001b[1;33m.\u001b[0m\u001b[0mremove\u001b[0m\u001b[1;33m(\u001b[0m\u001b[1;36m5\u001b[0m\u001b[1;33m)\u001b[0m\u001b[1;33m\u001b[0m\u001b[1;33m\u001b[0m\u001b[0m\n\u001b[0m",
      "\u001b[1;31mAttributeError\u001b[0m: 'dict' object has no attribute 'remove'"
     ]
    }
   ],
   "source": [
    "d1.remove(5)"
   ]
  },
  {
   "cell_type": "code",
   "execution_count": null,
   "id": "92b49c43",
   "metadata": {},
   "outputs": [],
   "source": []
  }
 ],
 "metadata": {
  "kernelspec": {
   "display_name": "Python 3 (ipykernel)",
   "language": "python",
   "name": "python3"
  },
  "language_info": {
   "codemirror_mode": {
    "name": "ipython",
    "version": 3
   },
   "file_extension": ".py",
   "mimetype": "text/x-python",
   "name": "python",
   "nbconvert_exporter": "python",
   "pygments_lexer": "ipython3",
   "version": "3.9.7"
  }
 },
 "nbformat": 4,
 "nbformat_minor": 5
}
