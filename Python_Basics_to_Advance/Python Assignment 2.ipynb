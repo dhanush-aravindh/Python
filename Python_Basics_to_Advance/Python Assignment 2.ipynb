{
 "cells": [
  {
   "cell_type": "markdown",
   "id": "40ff867f",
   "metadata": {},
   "source": [
    "# Assignment 1"
   ]
  },
  {
   "cell_type": "raw",
   "id": "75db0c1f",
   "metadata": {},
   "source": [
    "1. Create an array that is having user defined inputs and with the help of for loop, fetch all the prime \n",
    "numbers and print the numbers."
   ]
  },
  {
   "cell_type": "code",
   "execution_count": 26,
   "id": "aef1a04f",
   "metadata": {},
   "outputs": [
    {
     "name": "stdout",
     "output_type": "stream",
     "text": [
      "Enter the number of Inputs:5\n",
      "Enter the number 2\n",
      "Enter the number 3\n",
      "Enter the number 4\n",
      "Enter the number 5\n",
      "Enter the number 6\n",
      "2 is a prime number\n",
      "3 is a prime number\n",
      "5 is a prime number\n",
      "[2, 3, 4, 5, 6]\n"
     ]
    }
   ],
   "source": [
    "a=int(input(\"Enter the number of Inputs:\"))\n",
    "arr=[]\n",
    "for i in range(0,a):\n",
    "    b=int(input(\"Enter the number \"))\n",
    "    arr.append(b)\n",
    "    \n",
    "    \n",
    "for x in arr:\n",
    "    if(x>1):\n",
    "        for i in range(2,x):\n",
    "            if(x%i)==0:\n",
    "                break\n",
    "        else:\n",
    "            print(x,\"is a prime number\")\n",
    "                    \n",
    "print(arr)"
   ]
  },
  {
   "cell_type": "markdown",
   "id": "03b21c8a",
   "metadata": {},
   "source": [
    "# Assignment 2"
   ]
  },
  {
   "cell_type": "raw",
   "id": "b381e70a",
   "metadata": {},
   "source": [
    "1. Print the numbers from 1 to 10 using while loop"
   ]
  },
  {
   "cell_type": "code",
   "execution_count": 27,
   "id": "9f1022f6",
   "metadata": {},
   "outputs": [
    {
     "name": "stdout",
     "output_type": "stream",
     "text": [
      "1\n",
      "2\n",
      "3\n",
      "4\n",
      "5\n",
      "6\n",
      "7\n",
      "8\n",
      "9\n",
      "10\n"
     ]
    }
   ],
   "source": [
    "a=1\n",
    "while(a<=10):\n",
    "    print(a)\n",
    "    a+=1\n",
    "    "
   ]
  },
  {
   "cell_type": "markdown",
   "id": "44948207",
   "metadata": {},
   "source": [
    "# Assignment 3"
   ]
  },
  {
   "cell_type": "raw",
   "id": "ad574ff2",
   "metadata": {},
   "source": [
    "Create a list that is having 10,23,4,26,4,75,24,54 values and with the help of while loop, fetch \n",
    "the even numbers and print the numbers"
   ]
  },
  {
   "cell_type": "code",
   "execution_count": 1,
   "id": "b5a9504d",
   "metadata": {},
   "outputs": [
    {
     "name": "stdout",
     "output_type": "stream",
     "text": [
      "10\n",
      "4\n",
      "26\n",
      "4\n",
      "24\n",
      "54\n"
     ]
    }
   ],
   "source": [
    "my_list=[10,23,4,26,4,75,24,54]\n",
    "num=0\n",
    "while num<len(my_list):\n",
    "    if my_list[num]%2==0:\n",
    "        print(my_list[num])\n",
    "    num+=1"
   ]
  }
 ],
 "metadata": {
  "kernelspec": {
   "display_name": "Python 3 (ipykernel)",
   "language": "python",
   "name": "python3"
  },
  "language_info": {
   "codemirror_mode": {
    "name": "ipython",
    "version": 3
   },
   "file_extension": ".py",
   "mimetype": "text/x-python",
   "name": "python",
   "nbconvert_exporter": "python",
   "pygments_lexer": "ipython3",
   "version": "3.9.7"
  }
 },
 "nbformat": 4,
 "nbformat_minor": 5
}
