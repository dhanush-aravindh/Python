{
 "cells": [
  {
   "cell_type": "raw",
   "id": "94699ae6",
   "metadata": {},
   "source": [
    "Tasks to be performed:\n",
    "1. Create a class names Employee, with a constructor ‘__init__’ method that accepts name and \n",
    "salary as parameters and set properties named name and salary.\n",
    "2. Define __str__ method in Employee class so that when someone tries to print the object the \n",
    "string Name: employee_name, Salary: employee_salary is printed with the actual employee \n",
    "name and salary.\n",
    "3. Create another class named Calculator, with methods to add, subtract, multiply and divide two \n",
    "numbers.\n",
    "4. These methods take two numbers as parameters.\n",
    "5. These methods will be called by method named execute command.\n",
    "6. Execute command takes in 3 parameters command which is string that can be either ‘add’, ‘sub’, \n",
    "‘mul’, ‘div’, and two numbers and it will call the appropriate method based on command \n",
    "parameter"
   ]
  },
  {
   "cell_type": "code",
   "execution_count": 4,
   "id": "fd37346a",
   "metadata": {},
   "outputs": [],
   "source": [
    "class Employee:\n",
    "    def __init__(self,name,salary):\n",
    "        self.name = name\n",
    "        self.salary = salary\n",
    "    def __str__(self):\n",
    "        print(\"Name:\",self.name)\n",
    "        print(\"Salary:\",self.salary)"
   ]
  },
  {
   "cell_type": "code",
   "execution_count": 5,
   "id": "c1119577",
   "metadata": {},
   "outputs": [],
   "source": [
    "emp = Employee('Dinesh',25000)"
   ]
  },
  {
   "cell_type": "code",
   "execution_count": 6,
   "id": "4cb5214c",
   "metadata": {},
   "outputs": [
    {
     "name": "stdout",
     "output_type": "stream",
     "text": [
      "Name: Dinesh\n",
      "Salary: 25000\n"
     ]
    }
   ],
   "source": [
    "emp.__str__()"
   ]
  },
  {
   "cell_type": "code",
   "execution_count": 11,
   "id": "a977cadb",
   "metadata": {},
   "outputs": [],
   "source": [
    "class Calculator:\n",
    "    \n",
    "    def add(self,a,b):\n",
    "        return a+b\n",
    "    def sub(self,a,b):\n",
    "        return a-b\n",
    "    def mul(self,a,b):\n",
    "        return a*b\n",
    "    def div(self,a,b):\n",
    "        if b==0:\n",
    "            return \"Cannot divide by zero\"\n",
    "        return a/b\n",
    "    def execute_command(self,command,a,b):\n",
    "        if command == 'add':\n",
    "            return self.add(a,b)\n",
    "        elif command == 'sub':\n",
    "            return self.sub(a,b)\n",
    "        elif command == 'mul':\n",
    "            return self.mul(a,b)\n",
    "        elif command == 'div':\n",
    "            return self.div(a,b)\n",
    "        else:\n",
    "            return \"Invalid Command\"\n",
    "            "
   ]
  },
  {
   "cell_type": "code",
   "execution_count": 12,
   "id": "8d927bcc",
   "metadata": {},
   "outputs": [],
   "source": [
    "cal = Calculator()"
   ]
  },
  {
   "cell_type": "code",
   "execution_count": 17,
   "id": "3872a3fc",
   "metadata": {},
   "outputs": [
    {
     "data": {
      "text/plain": [
       "-1"
      ]
     },
     "execution_count": 17,
     "metadata": {},
     "output_type": "execute_result"
    }
   ],
   "source": [
    "cal.execute_command('sub',5,6)"
   ]
  },
  {
   "cell_type": "code",
   "execution_count": 33,
   "id": "6811bd24",
   "metadata": {},
   "outputs": [
    {
     "ename": "ModuleNotFoundError",
     "evalue": "No module named 'Modules'",
     "output_type": "error",
     "traceback": [
      "\u001b[1;31m---------------------------------------------------------------------------\u001b[0m",
      "\u001b[1;31mModuleNotFoundError\u001b[0m                       Traceback (most recent call last)",
      "\u001b[1;32m~\\AppData\\Local\\Temp/ipykernel_19024/3150539728.py\u001b[0m in \u001b[0;36m<module>\u001b[1;34m\u001b[0m\n\u001b[1;32m----> 1\u001b[1;33m \u001b[1;32mfrom\u001b[0m \u001b[0mModules\u001b[0m\u001b[1;33m.\u001b[0m\u001b[0mipynb\u001b[0m \u001b[1;32mimport\u001b[0m \u001b[0maddition\u001b[0m\u001b[1;33m\u001b[0m\u001b[1;33m\u001b[0m\u001b[0m\n\u001b[0m",
      "\u001b[1;31mModuleNotFoundError\u001b[0m: No module named 'Modules'"
     ]
    }
   ],
   "source": [
    "from Modules.ipynb import addition"
   ]
  },
  {
   "cell_type": "code",
   "execution_count": null,
   "id": "8de57b6b",
   "metadata": {},
   "outputs": [],
   "source": [
    "from scipy.stats import norm\n",
    "df_filtered = data[data['Heights(cms)'] > 150]\n",
    "\n",
    "# Check if there are observations with a height greater than 150cm\n",
    "if len(df_filtered) == 0:\n",
    "    print(\"Error: There are no observations with a height greater than 150cm\")\n",
    "else:\n",
    "    # Calculate the sample proportion of individuals who weigh more than 60kg and are above 150cm in height\n",
    "    p_hat = (df_filtered['Weight(Kgs)'] > 60).mean()\n",
    "\n",
    "    # Calculate the test statistic\n",
    "    z = (p_hat - 0.35) / (0.35 * (1 - 0.35) / len(df_filtered)) ** 0.5\n",
    "\n",
    "    # Calculate the p-value\n",
    "    p_value = 2 * (1 - norm.cdf(abs(z)))\n",
    "\n",
    "    print(\"z-score: \", z)\n",
    "    print(\"p-value: \", p_value)"
   ]
  }
 ],
 "metadata": {
  "kernelspec": {
   "display_name": "Python 3 (ipykernel)",
   "language": "python",
   "name": "python3"
  },
  "language_info": {
   "codemirror_mode": {
    "name": "ipython",
    "version": 3
   },
   "file_extension": ".py",
   "mimetype": "text/x-python",
   "name": "python",
   "nbconvert_exporter": "python",
   "pygments_lexer": "ipython3",
   "version": "3.9.7"
  }
 },
 "nbformat": 4,
 "nbformat_minor": 5
}
