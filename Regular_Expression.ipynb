{
  "cells": [
    {
      "cell_type": "code",
      "execution_count": 47,
      "metadata": {
        "id": "hLKhW6RCD6S4"
      },
      "outputs": [],
      "source": [
        "# It is used to find the patterns in the string data  and manipulating strings\n",
        "# Ex: Phone number,email,country code, pincode etc\n",
        "# It is mainly useful in building a compiler to read the code and the respective keywords in a language\n",
        "# It used to extract information from logfiles,spread sheets, or even textual data\n",
        "# Use Cases\n",
        "# 1. Searching and replacing text in files\n",
        "# 2. Validating text input such as password and emailaddress\n",
        "# 3. Rename a hundred files at a time.\n",
        "\n"
      ]
    },
    {
      "cell_type": "code",
      "execution_count": null,
      "metadata": {},
      "outputs": [],
      "source": []
    },
    {
      "cell_type": "code",
      "execution_count": null,
      "metadata": {},
      "outputs": [],
      "source": []
    },
    {
      "cell_type": "code",
      "execution_count": null,
      "metadata": {},
      "outputs": [],
      "source": []
    },
    {
      "cell_type": "code",
      "execution_count": 48,
      "metadata": {
        "id": "ni8WDRWnFo29"
      },
      "outputs": [],
      "source": [
        "# Matching the characters\n",
        "# Character - Description\n",
        "# 1. \\d  - Match any digit\n",
        "# 2. \\s  - Match any whitespace\n",
        "# 3. \\w  - Match any alphanumeric char\n",
        "# 4. \\D  - Match any non-digit\n",
        "# 5. \\S  - Match any non-whitespace\n",
        "# 5  \\W  - Match any non-alphanumeric char"
      ]
    },
    {
      "cell_type": "code",
      "execution_count": 49,
      "metadata": {
        "id": "mTMOcgV7Fo8n"
      },
      "outputs": [],
      "source": [
        "# Tools and website for Regex\n",
        "# 1. RegexOne\n",
        "# 2. RegExr"
      ]
    },
    {
      "cell_type": "code",
      "execution_count": 50,
      "metadata": {
        "id": "sKvy9L3gFo_-"
      },
      "outputs": [],
      "source": [
        "# How to write a Regex Expression for pattern Matching\n",
        "# /. --> It highlights the entire data\n",
        "# . --> It highlights the single character\n",
        "# \\w --> Matching each and every character\n",
        "# \\d --> Searches for digit\n",
        "# \\s --> Highlights the empty spaces which are given\n",
        "# \\D --> Highlights all the non-numeric data\n",
        "# \\W --> Highlights all the non-alphanumeric data\n",
        "# \\S --> Highlights all the non-empty spaces\n",
        "# /the --> It matches/highlights every where the character or the word 'the' is present\n",
        "# With the above expression we can also identify/count  the number of characters or text is given in a document\n"
      ]
    },
    {
      "cell_type": "code",
      "execution_count": 51,
      "metadata": {
        "id": "udfFs4oVFpGU"
      },
      "outputs": [],
      "source": [
        "\n",
        "\n",
        "# \\w+ --> It matches the entire word following a specific character without highlighting a special character more than one character matching\n",
        "# \\w* --> It matches more the zero character\n",
        "\n",
        "# Pattern for matching a simple email address--> \\w+@\\w+.\\w+\n",
        "# We need to make pattern which makes universally accepting lot of email address\n",
        "# [abc] --> matches only a,b, or c\n",
        "# [^abc] --> not a,b or c\n",
        "# \\w{3} --> matches the character along with the length{3} matches the character containg a length of 3\n",
        "# \\w{3,} --> matches the character which has a length of 3 or greater than 3\n",
        "# (\\w+)_|. --> It matches the character followed by underscore or .\n",
        "# Patterns in email address matching\n",
        "# 1. (\\w+)(_|.)(\\w+)@(\\w+)\\.[a-z]{3} --> dhanush_aravind@gamil.com\n",
        "# 2. (\\w+)(_|.)(w+)@(\\w+)\\.[a-z]{2,3} --> dhanush_aravind@gamil.in/com\n",
        "# always use cheatsheet to create patterns.\n",
        "\n",
        "\n",
        "\n"
      ]
    },
    {
      "cell_type": "code",
      "execution_count": 52,
      "metadata": {
        "id": "-oyYK5djSrIz"
      },
      "outputs": [],
      "source": [
        "line = 'I Love Data Science'"
      ]
    },
    {
      "cell_type": "code",
      "execution_count": null,
      "metadata": {
        "id": "bzYKCYRQhCGm"
      },
      "outputs": [],
      "source": []
    },
    {
      "cell_type": "code",
      "execution_count": 53,
      "metadata": {
        "colab": {
          "base_uri": "https://localhost:8080/"
        },
        "id": "VXbmvujRmDwi",
        "outputId": "1b771dd3-cec2-44ef-8d43-fe87d4210eeb"
      },
      "outputs": [
        {
          "data": {
            "text/plain": [
              "['I', 'Love', 'Data', 'Science']"
            ]
          },
          "execution_count": 53,
          "metadata": {},
          "output_type": "execute_result"
        }
      ],
      "source": [
        "line.split()"
      ]
    },
    {
      "cell_type": "code",
      "execution_count": 54,
      "metadata": {
        "colab": {
          "base_uri": "https://localhost:8080/"
        },
        "id": "f8TfAtYGFpJl",
        "outputId": "a33ea773-7c00-447c-a0e7-410535760c02"
      },
      "outputs": [
        {
          "data": {
            "text/plain": [
              "['I', 'Love', 'Data', 'Science']"
            ]
          },
          "execution_count": 54,
          "metadata": {},
          "output_type": "execute_result"
        }
      ],
      "source": [
        "import re\n",
        "# First we need to compile the regular expression to identify no syntax error is present\n",
        "regex =  re.compile('\\s+')\n",
        "regex.split(line)"
      ]
    },
    {
      "cell_type": "code",
      "execution_count": 55,
      "metadata": {
        "colab": {
          "base_uri": "https://localhost:8080/"
        },
        "id": "7iq3-gWTFpMX",
        "outputId": "f09a3c02-f73b-4477-a3fc-aa35dc4c2a4f"
      },
      "outputs": [
        {
          "name": "stdout",
          "output_type": "stream",
          "text": [
            "'  ' matches\n",
            "'abc  ' does not match\n",
            "'  abc' matches\n"
          ]
        }
      ],
      "source": [
        "for s in [\"  \",\"abc  \",\"  abc\"]:\n",
        "  if regex.match(s):\n",
        "    print(repr(s), \"matches\")\n",
        "  else:\n",
        "    print(repr(s), \"does not match\")"
      ]
    },
    {
      "cell_type": "code",
      "execution_count": 56,
      "metadata": {
        "colab": {
          "base_uri": "https://localhost:8080/",
          "height": 53
        },
        "id": "yDPmis4LFpky",
        "outputId": "3efd399f-4042-497b-c5f6-d2fe4fad7a16"
      },
      "outputs": [
        {
          "name": "stdout",
          "output_type": "stream",
          "text": [
            "Hello World!\n"
          ]
        },
        {
          "data": {
            "text/plain": [
              "\"'Hello World!'\""
            ]
          },
          "execution_count": 56,
          "metadata": {},
          "output_type": "execute_result"
        }
      ],
      "source": [
        "# Difference between print() and repr():\n",
        "print(\"Hello World!\")\n",
        "repr(\"Hello World!\") #It is very much useful if there are any empty spaces in the string\n"
      ]
    },
    {
      "cell_type": "code",
      "execution_count": 57,
      "metadata": {
        "colab": {
          "base_uri": "https://localhost:8080/"
        },
        "id": "fvKDuG46Fpnm",
        "outputId": "a7a2c755-2205-46a2-fe44-0886ea2ca01a"
      },
      "outputs": [
        {
          "data": {
            "text/plain": [
              "7"
            ]
          },
          "execution_count": 57,
          "metadata": {},
          "output_type": "execute_result"
        }
      ],
      "source": [
        "\n",
        "\n",
        "line.index(\"Data\")"
      ]
    },
    {
      "cell_type": "code",
      "execution_count": 58,
      "metadata": {
        "colab": {
          "base_uri": "https://localhost:8080/"
        },
        "id": "uvZzJj5DFpqq",
        "outputId": "c4bb6d77-853a-4dc2-85ac-187640b73176"
      },
      "outputs": [
        {
          "data": {
            "text/plain": [
              "7"
            ]
          },
          "execution_count": 58,
          "metadata": {},
          "output_type": "execute_result"
        }
      ],
      "source": [
        "regex = re.compile('Data')\n",
        "match = regex.search(line)\n",
        "match.start()"
      ]
    },
    {
      "cell_type": "code",
      "execution_count": 59,
      "metadata": {
        "colab": {
          "base_uri": "https://localhost:8080/",
          "height": 36
        },
        "id": "eNFQXc9rFpsm",
        "outputId": "db898861-8152-4987-933b-fe04fb2e998e"
      },
      "outputs": [
        {
          "data": {
            "text/plain": [
              "'I Love Dhanush'"
            ]
          },
          "execution_count": 59,
          "metadata": {},
          "output_type": "execute_result"
        }
      ],
      "source": [
        "line.replace('Data Science','Dhanush')"
      ]
    },
    {
      "cell_type": "code",
      "execution_count": 60,
      "metadata": {
        "colab": {
          "base_uri": "https://localhost:8080/",
          "height": 36
        },
        "id": "oA71icePFpvr",
        "outputId": "92f17f38-d85d-4802-a226-70c7057ef1a5"
      },
      "outputs": [
        {
          "data": {
            "text/plain": [
              "'I Love Aravindh'"
            ]
          },
          "execution_count": 60,
          "metadata": {},
          "output_type": "execute_result"
        }
      ],
      "source": [
        "regex = re.compile(\"Data Science\")\n",
        "regex.sub('Aravindh',line)"
      ]
    },
    {
      "cell_type": "code",
      "execution_count": 61,
      "metadata": {
        "id": "biWP2yUOFpyZ"
      },
      "outputs": [],
      "source": [
        "text = \"Dhanush Aravindh is a Data Scientist and his mail is dhanush.aravindh@gmail.com\"\n"
      ]
    },
    {
      "cell_type": "code",
      "execution_count": 62,
      "metadata": {
        "colab": {
          "base_uri": "https://localhost:8080/"
        },
        "id": "WzPeMYIxFp1j",
        "outputId": "b0289444-32e5-4a55-ba07-737ebdaad120"
      },
      "outputs": [
        {
          "data": {
            "text/plain": [
              "[('dhanush', 'aravindh', 'gmail')]"
            ]
          },
          "execution_count": 62,
          "metadata": {},
          "output_type": "execute_result"
        }
      ],
      "source": [
        "# Extracting the strings from email\n",
        "# Whenever we use round braces it will create a group\n",
        "# It extracts username and domain separately\n",
        "email = re.compile('(\\w+)\\.(\\w+)@(\\w+)\\.[a-z]{3}')\n",
        "email.findall(text)"
      ]
    },
    {
      "cell_type": "code",
      "execution_count": 63,
      "metadata": {
        "colab": {
          "base_uri": "https://localhost:8080/"
        },
        "id": "UUuK6mq_Fp4H",
        "outputId": "516930d3-0c94-4284-f436-dbb62f7aa05e"
      },
      "outputs": [
        {
          "data": {
            "text/plain": [
              "['dhanush.aravindh@gmail.com']"
            ]
          },
          "execution_count": 63,
          "metadata": {},
          "output_type": "execute_result"
        }
      ],
      "source": [
        "# When we have to extract the entire email we can use\n",
        "import re\n",
        "email = re.compile('[\\w.]+@\\w+\\.[a-z]{3}')\n",
        "email.findall(text)"
      ]
    },
    {
      "cell_type": "code",
      "execution_count": 64,
      "metadata": {
        "colab": {
          "base_uri": "https://localhost:8080/"
        },
        "id": "kIgL9K5Rifb9",
        "outputId": "55b180a5-c99f-4c49-a711-85ae83d456ed"
      },
      "outputs": [
        {
          "name": "stdout",
          "output_type": "stream",
          "text": [
            "a\tb\tc\n"
          ]
        }
      ],
      "source": [
        "# Apply regex in raw string format\n",
        "# Every character is printed with tab space \\t\n",
        "print('a\\tb\\tc')"
      ]
    },
    {
      "cell_type": "code",
      "execution_count": 65,
      "metadata": {
        "colab": {
          "base_uri": "https://localhost:8080/"
        },
        "id": "5KDYYFzf-qm_",
        "outputId": "a73c522a-b7b7-42e8-e008-906d7280bd5a"
      },
      "outputs": [
        {
          "name": "stdout",
          "output_type": "stream",
          "text": [
            "a\n",
            "b\n",
            "c\n"
          ]
        }
      ],
      "source": [
        "# Every character is printed in a new line\n",
        "print('a\\nb\\nc')"
      ]
    },
    {
      "cell_type": "code",
      "execution_count": 66,
      "metadata": {
        "colab": {
          "base_uri": "https://localhost:8080/"
        },
        "id": "qXhZNwpr-qpj",
        "outputId": "31e21d51-61d3-473d-ea29-ed7d99e51ef9"
      },
      "outputs": [
        {
          "name": "stdout",
          "output_type": "stream",
          "text": [
            "a\\tb\\tc\n"
          ]
        }
      ],
      "source": [
        "# Whenever reading a string we may face this error. while handling string in python\n",
        "# to overide the escape character we can use 'r'+ string format\n",
        "\n",
        "print(r'a\\tb\\tc')"
      ]
    },
    {
      "cell_type": "code",
      "execution_count": 67,
      "metadata": {
        "colab": {
          "base_uri": "https://localhost:8080/"
        },
        "id": "t8tK5rpj-qsX",
        "outputId": "688fa743-d09a-4c1f-a59b-647dfe48d1f8"
      },
      "outputs": [
        {
          "data": {
            "text/plain": [
              "[('dhanush.aravindh', 'gmail', 'com')]"
            ]
          },
          "execution_count": 67,
          "metadata": {},
          "output_type": "execute_result"
        }
      ],
      "source": [
        "email3 = re.compile(r'([\\w.]+)@(\\w+)\\.([a-z]{3})')\n",
        "email3.findall(text)"
      ]
    },
    {
      "cell_type": "code",
      "execution_count": 68,
      "metadata": {
        "colab": {
          "base_uri": "https://localhost:8080/"
        },
        "id": "kecInMN3-quw",
        "outputId": "063a341c-d6a3-448d-d4fa-f34b9602af02"
      },
      "outputs": [
        {
          "data": {
            "text/plain": [
              "{'user': 'dhanush.aravind', 'domain': 'gmail', 'suffix': 'com'}"
            ]
          },
          "execution_count": 68,
          "metadata": {},
          "output_type": "execute_result"
        }
      ],
      "source": [
        "email4 = re.compile(r'(?P<user>[\\w.]+)@(?P<domain>\\w+)\\.(?P<suffix>[a-z]{3})')\n",
        "regex = email4.match('dhanush.aravind@gmail.com')\n",
        "regex.groupdict()"
      ]
    },
    {
      "cell_type": "code",
      "execution_count": 69,
      "metadata": {
        "id": "dkdkU3yA-qyA"
      },
      "outputs": [],
      "source": [
        "# We have used the tags to identify user,domain and suffix"
      ]
    },
    {
      "cell_type": "code",
      "execution_count": null,
      "metadata": {
        "id": "cLHSbdj5-q3l"
      },
      "outputs": [],
      "source": []
    },
    {
      "cell_type": "code",
      "execution_count": null,
      "metadata": {
        "id": "yoTmshwN-q59"
      },
      "outputs": [],
      "source": []
    },
    {
      "cell_type": "code",
      "execution_count": null,
      "metadata": {
        "id": "M3RfxM5Y-q8B"
      },
      "outputs": [],
      "source": []
    },
    {
      "cell_type": "code",
      "execution_count": null,
      "metadata": {
        "id": "MtMenwaL-q9_"
      },
      "outputs": [],
      "source": []
    },
    {
      "cell_type": "code",
      "execution_count": null,
      "metadata": {
        "id": "baJYy_xt-q_q"
      },
      "outputs": [],
      "source": []
    }
  ],
  "metadata": {
    "colab": {
      "provenance": []
    },
    "kernelspec": {
      "display_name": "Python 3",
      "name": "python3"
    },
    "language_info": {
      "codemirror_mode": {
        "name": "ipython",
        "version": 3
      },
      "file_extension": ".py",
      "mimetype": "text/x-python",
      "name": "python",
      "nbconvert_exporter": "python",
      "pygments_lexer": "ipython3",
      "version": "3.11.4"
    }
  },
  "nbformat": 4,
  "nbformat_minor": 0
}
